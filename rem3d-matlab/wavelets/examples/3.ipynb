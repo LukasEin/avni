{
 "cells": [
  {
   "cell_type": "code",
   "execution_count": 1,
   "metadata": {
    "collapsed": true
   },
   "outputs": [],
   "source": [
    "#importing standard modules\n",
    "import math\n",
    "import os\n",
    "import glob\n",
    "import re\n",
    "import matplotlib.pyplot as plt\n",
    "import numpy as np\n",
    "import subprocess as sub\n",
    "import shutil\n",
    "import sys\n",
    "%matplotlib inline\n",
    "\n",
    "#import raj's models\n",
    "from drawmapsection3D import plot1globalmap,plot1section,globalmap,readepixfile\n",
    "from geolib import delazgc\n",
    "\n",
    "# import Anant's modules\n",
    "from model3d_utilities import getdepthsfolder\n",
    "\n",
    "#and other fun stuff\n",
    "from scipy.stats.stats import pearsonr\n",
    "from operator import itemgetter\n",
    "from os import listdir\n",
    "from os.path import isfile, join"
   ]
  },
  {
   "cell_type": "code",
   "execution_count": 2,
   "metadata": {
    "collapsed": false
   },
   "outputs": [],
   "source": [
    "########################## SETUP ###################\n",
    "#database folder for big files e.g topo grid files\n",
    "dbs_path = '/home/anant/dbs'\n",
    "lower_bound  = -1.0\n",
    "upper_bound = 1.0\n",
    "elev_interval = 150\n",
    "folder_mitp08 = '/home/moulik/MODELS/MIT_P08_epix'\n",
    "folder_mitp08slash = '/home/moulik/MODELS/MIT_P08_epix/'\n",
    "indir = folder_mitp08\n",
    "fileprefix='mitp08'\n",
    "convert_exe = 'epix2sh'\n",
    "####################################################"
   ]
  },
  {
   "cell_type": "code",
   "execution_count": 3,
   "metadata": {
    "collapsed": false
   },
   "outputs": [],
   "source": [
    "###Make Depths File\n",
    "depths = getdepthsfolder(folder_mitp08slash,'.epix',delimiter='.')\n",
    "depths_meter= np.array(depths)*1000\n",
    "depths_invert = 6371 - np.array(depths)\n",
    "depths_meter_invert = 6371000-depths_meter\n",
    "############################################ SAVE OUTPUT TO TEXT\n",
    "depthsfileoutname = fileprefix+'_Depths.txt'\n",
    "np.savetxt(depthsfileoutname, depths_meter, fmt='%10f', delimiter=' ', newline='\\n', header='', footer='', comments='#depths ')\n",
    "#############################################"
   ]
  },
  {
   "cell_type": "code",
   "execution_count": 4,
   "metadata": {
    "collapsed": false
   },
   "outputs": [
    {
     "name": "stdout",
     "output_type": "stream",
     "text": [
      "25\n",
      "50\n",
      "70\n",
      "75\n",
      "80\n",
      "100\n",
      "125\n",
      "150\n",
      "175\n",
      "200\n",
      "225\n",
      "250\n",
      "275\n",
      "300\n",
      "350\n",
      "400\n",
      "450\n",
      "500\n",
      "550\n",
      "600\n",
      "630\n",
      "670\n",
      "680\n",
      "700\n",
      "750\n",
      "800\n",
      "900\n",
      "1000\n",
      "1100\n",
      "1200\n",
      "1300\n",
      "1400\n",
      "1500\n",
      "1600\n",
      "1700\n",
      "1800\n",
      "1900\n",
      "2000\n",
      "2100\n",
      "2200\n",
      "2300\n",
      "2400\n",
      "2500\n",
      "2600\n",
      "2700\n",
      "2800\n",
      "2890\n"
     ]
    }
   ],
   "source": [
    "####NOW MAKE FULL DV FILE\n",
    "\n",
    "#Format: lat lon Re-dep dV\n",
    "ff=open(fileprefix+'dv.dat','ab')\n",
    "\n",
    "for f in range(len(depths)):\n",
    "        \n",
    "   \n",
    "        depth = depths[f]\n",
    "        filename = folder_mitp08slash + fileprefix + '.' + str(depths[f]) + '.epix'  \n",
    "        epixarr=np.genfromtxt(filename, dtype=None,comments=\"#\",names=['lat','lon','pixsize','val'])\n",
    "        epixarr['pixsize'] = depths_invert[f]\n",
    "        np.savetxt(ff,np.c_[epixarr['lat'],epixarr['lon'],epixarr['pixsize'],epixarr['val']],fmt='%.14f')\n",
    "        print(depth)\n",
    "        \n",
    "        \n",
    "        \n",
    "        \n",
    "###Write header lines       \n",
    "f = open(fileprefix+'dv.dat','r')\n",
    "temp = f.read()\n",
    "f.close()\n",
    "\n",
    "f = open(fileprefix+'dv.dat', 'w')\n",
    "f.write(\"       lon       lat         r     dv(%)\\n\")\n",
    "\n",
    "f.write(temp)\n",
    "f.close()"
   ]
  },
  {
   "cell_type": "code",
   "execution_count": null,
   "metadata": {
    "collapsed": false
   },
   "outputs": [],
   "source": []
  },
  {
   "cell_type": "code",
   "execution_count": null,
   "metadata": {
    "collapsed": false
   },
   "outputs": [],
   "source": []
  },
  {
   "cell_type": "code",
   "execution_count": null,
   "metadata": {
    "collapsed": false
   },
   "outputs": [],
   "source": []
  },
  {
   "cell_type": "code",
   "execution_count": null,
   "metadata": {
    "collapsed": true
   },
   "outputs": [],
   "source": []
  }
 ],
 "metadata": {
  "kernelspec": {
   "display_name": "Python 2",
   "language": "python",
   "name": "python2"
  },
  "language_info": {
   "codemirror_mode": {
    "name": "ipython",
    "version": 2
   },
   "file_extension": ".py",
   "mimetype": "text/x-python",
   "name": "python",
   "nbconvert_exporter": "python",
   "pygments_lexer": "ipython2",
   "version": "2.7.11"
  }
 },
 "nbformat": 4,
 "nbformat_minor": 0
}
