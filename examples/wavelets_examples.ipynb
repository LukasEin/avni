{
 "cells": [
  {
   "cell_type": "markdown",
   "metadata": {},
   "source": [
    "This example does this...... write in Markdown\n",
    "\n",
    "\n",
    "\n"
   ]
  },
  {
   "cell_type": "code",
   "execution_count": 3,
   "metadata": {
    "collapsed": false
   },
   "outputs": [],
   "source": [
    "#importing standard modules\n",
    "import math\n",
    "import os\n",
    "import glob\n",
    "import re\n",
    "import matplotlib.pyplot as plt\n",
    "import numpy as np\n",
    "import subprocess as sub\n",
    "import shutil\n",
    "import sys\n",
    "import scipy as sci\n",
    "import scipy.io as sio\n",
    "%matplotlib inline\n",
    "from scipy.sparse import csr_matrix, rand\n",
    "from mpl_toolkits.basemap import Basemap\n",
    "import matplotlib.colors as colors\n",
    "from matplotlib.pyplot import register_cmap,get_cmap,colorbar\n",
    "from mpl_toolkits.axes_grid1 import make_axes_locatable\n",
    "####################       IMPORT PM's MODULES     ######################################\n",
    "from plottingPM import get_colors,grayify_cmap,make_colormap,customcolorpalette\n",
    "from drawmapsection3D import get_distaz,delazgc_helper,writejson,readjson, \\\n",
    "    plot_hotspots,plot_plates,plot_gcpaths,get_fullpath,sanitised_input,uniquenumpyrow"
   ]
  },
  {
   "cell_type": "code",
   "execution_count": 4,
   "metadata": {
    "collapsed": false
   },
   "outputs": [
    {
     "ename": "IOError",
     "evalue": "[Errno 2] No such file or directory: '../rem3d/files/Grid_N7_Jmax4_eo0_EulerConfig1.mat'",
     "output_type": "error",
     "traceback": [
      "\u001b[1;31m---------------------------------------------------------------------------\u001b[0m",
      "\u001b[1;31mIOError\u001b[0m                                   Traceback (most recent call last)",
      "\u001b[1;32m<ipython-input-4-04448450d69a>\u001b[0m in \u001b[0;36m<module>\u001b[1;34m()\u001b[0m\n\u001b[0;32m     16\u001b[0m \u001b[0mWaveletBasis\u001b[0m \u001b[1;33m=\u001b[0m \u001b[0msio\u001b[0m\u001b[1;33m.\u001b[0m\u001b[0mloadmat\u001b[0m\u001b[1;33m(\u001b[0m\u001b[0mDatabase_Path\u001b[0m \u001b[1;33m+\u001b[0m \u001b[0mDVBasisName\u001b[0m\u001b[1;33m)\u001b[0m\u001b[1;33m\u001b[0m\u001b[0m\n\u001b[0;32m     17\u001b[0m \u001b[0mWaveletCoeffBasis\u001b[0m \u001b[1;33m=\u001b[0m \u001b[0msio\u001b[0m\u001b[1;33m.\u001b[0m\u001b[0mloadmat\u001b[0m\u001b[1;33m(\u001b[0m\u001b[0mDatabase_Path\u001b[0m \u001b[1;33m+\u001b[0m \u001b[0mWaveletCoeffBasisName\u001b[0m\u001b[1;33m)\u001b[0m\u001b[1;33m\u001b[0m\u001b[0m\n\u001b[1;32m---> 18\u001b[1;33m \u001b[0mGrids\u001b[0m \u001b[1;33m=\u001b[0m \u001b[0msio\u001b[0m\u001b[1;33m.\u001b[0m\u001b[0mloadmat\u001b[0m\u001b[1;33m(\u001b[0m\u001b[0mDatabase_Path\u001b[0m \u001b[1;33m+\u001b[0m \u001b[0mGridName\u001b[0m\u001b[1;33m)\u001b[0m\u001b[1;33m\u001b[0m\u001b[0m\n\u001b[0m\u001b[0;32m     19\u001b[0m \u001b[0mModelFile\u001b[0m \u001b[1;33m=\u001b[0m \u001b[0msio\u001b[0m\u001b[1;33m.\u001b[0m\u001b[0mloadmat\u001b[0m\u001b[1;33m(\u001b[0m\u001b[0mDatabase_Path\u001b[0m \u001b[1;33m+\u001b[0m \u001b[0mVeloName\u001b[0m\u001b[1;33m)\u001b[0m\u001b[1;33m\u001b[0m\u001b[0m\n\u001b[0;32m     20\u001b[0m \u001b[1;31m####\u001b[0m\u001b[1;33m\u001b[0m\u001b[1;33m\u001b[0m\u001b[0m\n",
      "\u001b[1;32m/opt/anaconda2/lib/python2.7/site-packages/scipy/io/matlab/mio.pyc\u001b[0m in \u001b[0;36mloadmat\u001b[1;34m(file_name, mdict, appendmat, **kwargs)\u001b[0m\n\u001b[0;32m    132\u001b[0m     \"\"\"\n\u001b[0;32m    133\u001b[0m     \u001b[0mvariable_names\u001b[0m \u001b[1;33m=\u001b[0m \u001b[0mkwargs\u001b[0m\u001b[1;33m.\u001b[0m\u001b[0mpop\u001b[0m\u001b[1;33m(\u001b[0m\u001b[1;34m'variable_names'\u001b[0m\u001b[1;33m,\u001b[0m \u001b[0mNone\u001b[0m\u001b[1;33m)\u001b[0m\u001b[1;33m\u001b[0m\u001b[0m\n\u001b[1;32m--> 134\u001b[1;33m     \u001b[0mMR\u001b[0m \u001b[1;33m=\u001b[0m \u001b[0mmat_reader_factory\u001b[0m\u001b[1;33m(\u001b[0m\u001b[0mfile_name\u001b[0m\u001b[1;33m,\u001b[0m \u001b[0mappendmat\u001b[0m\u001b[1;33m,\u001b[0m \u001b[1;33m**\u001b[0m\u001b[0mkwargs\u001b[0m\u001b[1;33m)\u001b[0m\u001b[1;33m\u001b[0m\u001b[0m\n\u001b[0m\u001b[0;32m    135\u001b[0m     \u001b[0mmatfile_dict\u001b[0m \u001b[1;33m=\u001b[0m \u001b[0mMR\u001b[0m\u001b[1;33m.\u001b[0m\u001b[0mget_variables\u001b[0m\u001b[1;33m(\u001b[0m\u001b[0mvariable_names\u001b[0m\u001b[1;33m)\u001b[0m\u001b[1;33m\u001b[0m\u001b[0m\n\u001b[0;32m    136\u001b[0m     \u001b[1;32mif\u001b[0m \u001b[0mmdict\u001b[0m \u001b[1;32mis\u001b[0m \u001b[1;32mnot\u001b[0m \u001b[0mNone\u001b[0m\u001b[1;33m:\u001b[0m\u001b[1;33m\u001b[0m\u001b[0m\n",
      "\u001b[1;32m/opt/anaconda2/lib/python2.7/site-packages/scipy/io/matlab/mio.pyc\u001b[0m in \u001b[0;36mmat_reader_factory\u001b[1;34m(file_name, appendmat, **kwargs)\u001b[0m\n\u001b[0;32m     55\u001b[0m        \u001b[0mtype\u001b[0m \u001b[0mdetected\u001b[0m \u001b[1;32min\u001b[0m \u001b[1;33m`\u001b[0m\u001b[0mfilename\u001b[0m\u001b[1;33m`\u001b[0m\u001b[1;33m.\u001b[0m\u001b[1;33m\u001b[0m\u001b[0m\n\u001b[0;32m     56\u001b[0m     \"\"\"\n\u001b[1;32m---> 57\u001b[1;33m     \u001b[0mbyte_stream\u001b[0m \u001b[1;33m=\u001b[0m \u001b[0m_open_file\u001b[0m\u001b[1;33m(\u001b[0m\u001b[0mfile_name\u001b[0m\u001b[1;33m,\u001b[0m \u001b[0mappendmat\u001b[0m\u001b[1;33m)\u001b[0m\u001b[1;33m\u001b[0m\u001b[0m\n\u001b[0m\u001b[0;32m     58\u001b[0m     \u001b[0mmjv\u001b[0m\u001b[1;33m,\u001b[0m \u001b[0mmnv\u001b[0m \u001b[1;33m=\u001b[0m \u001b[0mget_matfile_version\u001b[0m\u001b[1;33m(\u001b[0m\u001b[0mbyte_stream\u001b[0m\u001b[1;33m)\u001b[0m\u001b[1;33m\u001b[0m\u001b[0m\n\u001b[0;32m     59\u001b[0m     \u001b[1;32mif\u001b[0m \u001b[0mmjv\u001b[0m \u001b[1;33m==\u001b[0m \u001b[1;36m0\u001b[0m\u001b[1;33m:\u001b[0m\u001b[1;33m\u001b[0m\u001b[0m\n",
      "\u001b[1;32m/opt/anaconda2/lib/python2.7/site-packages/scipy/io/matlab/mio.pyc\u001b[0m in \u001b[0;36m_open_file\u001b[1;34m(file_like, appendmat)\u001b[0m\n\u001b[0;32m     21\u001b[0m     \u001b[1;32mif\u001b[0m \u001b[0misinstance\u001b[0m\u001b[1;33m(\u001b[0m\u001b[0mfile_like\u001b[0m\u001b[1;33m,\u001b[0m \u001b[0mstring_types\u001b[0m\u001b[1;33m)\u001b[0m\u001b[1;33m:\u001b[0m\u001b[1;33m\u001b[0m\u001b[0m\n\u001b[0;32m     22\u001b[0m         \u001b[1;32mtry\u001b[0m\u001b[1;33m:\u001b[0m\u001b[1;33m\u001b[0m\u001b[0m\n\u001b[1;32m---> 23\u001b[1;33m             \u001b[1;32mreturn\u001b[0m \u001b[0mopen\u001b[0m\u001b[1;33m(\u001b[0m\u001b[0mfile_like\u001b[0m\u001b[1;33m,\u001b[0m \u001b[1;34m'rb'\u001b[0m\u001b[1;33m)\u001b[0m\u001b[1;33m\u001b[0m\u001b[0m\n\u001b[0m\u001b[0;32m     24\u001b[0m         \u001b[1;32mexcept\u001b[0m \u001b[0mIOError\u001b[0m \u001b[1;32mas\u001b[0m \u001b[0me\u001b[0m\u001b[1;33m:\u001b[0m\u001b[1;33m\u001b[0m\u001b[0m\n\u001b[0;32m     25\u001b[0m             \u001b[1;32mif\u001b[0m \u001b[0mappendmat\u001b[0m \u001b[1;32mand\u001b[0m \u001b[1;32mnot\u001b[0m \u001b[0mfile_like\u001b[0m\u001b[1;33m.\u001b[0m\u001b[0mendswith\u001b[0m\u001b[1;33m(\u001b[0m\u001b[1;34m'.mat'\u001b[0m\u001b[1;33m)\u001b[0m\u001b[1;33m:\u001b[0m\u001b[1;33m\u001b[0m\u001b[0m\n",
      "\u001b[1;31mIOError\u001b[0m: [Errno 2] No such file or directory: '../rem3d/files/Grid_N7_Jmax4_eo0_EulerConfig1.mat'"
     ]
    }
   ],
   "source": [
    "####SETUP\n",
    "Database_Path = '../rem3d/files/'\n",
    "N = 7\n",
    "Jmax = 4\n",
    "WaveletBasisFn = 'D4'\n",
    "eo =0\n",
    "EulerConfig = 1\n",
    "\n",
    "##Naming Conventions\n",
    "DVBasisName = 'DVmaps.'+ 'N' + str(N) + '.J' + str(Jmax) + '.' + WaveletBasisFn + '.mat'\n",
    "WaveletCoeffBasisName = 'VWCoeffs.' + 'N'+str(N) + '.J' + str(Jmax) + '.' + \\\n",
    "                        WaveletBasisFn + '.mat'\n",
    "GridName= 'Grid_N' + str(N) + '_Jmax' + str(Jmax) +  '_eo' + str(eo) + \\\n",
    "          '_EulerConfig' + str(EulerConfig) + '.mat'\n",
    "VeloName = 'DVWvN'+ str(N) + '_Jmax' + str(Jmax) +  '_eo' + str(eo) + \\\n",
    "          '_EulerConfig' + str(EulerConfig) + '.mat'\n",
    "\n",
    "####Read\n",
    "WaveletBasis = sio.loadmat(Database_Path + DVBasisName)\n",
    "WaveletCoeffBasis = sio.loadmat(Database_Path + WaveletCoeffBasisName)\n",
    "Grids = sio.loadmat(Database_Path + GridName)\n",
    "ModelFile = sio.loadmat(Database_Path + VeloName)\n",
    "####"
   ]
  },
  {
   "cell_type": "code",
   "execution_count": null,
   "metadata": {
    "collapsed": false
   },
   "outputs": [],
   "source": [
    "#Plot a wavelet on x,y\n",
    "Nbasis = len(WaveletBasis['Me'][0,:])\n",
    "ii = 0 # Choose a wavelet\n",
    "plt.matshow(WaveletBasis['Me'][0,1][0].toarray())"
   ]
  },
  {
   "cell_type": "code",
   "execution_count": null,
   "metadata": {
    "collapsed": false
   },
   "outputs": [],
   "source": [
    "#Plot a wavelet from a selected face\n",
    "face = 6 #out of 0-5\n",
    "ii = 1 #0-16383\n",
    "\n",
    "\n",
    "N = Grids['MetaN'][0][0]\n",
    "ScaleIndex = Grids['ScaleIndex'][0][0]\n",
    "print ScaleIndex\n",
    "Jmax = Grids['MetaJmax'][0][0]\n",
    "lonwav = Grids['lon'][face*Nbasis:(face+1)*Nbasis]\n",
    "latwav = Grids['lat'][face*Nbasis:(face+1)*Nbasis]\n",
    "value = WaveletBasis['Me'][0,ii][0].toarray()\n",
    "value = value.flatten()\n",
    "\n",
    "# Define a colorscale\n",
    "colormax=np.amax(abs(value)) #(-colormax,colormax) are the limits of the colorbar\n",
    "greylimit=0.001*colormax  #this is the limit to which the middle color (grey) will extend on either side of colorttmax mid\n",
    "name='r_lgrey_b'\n",
    "c = colors.ColorConverter().to_rgb\n",
    "colorlist=[c('blue'), c('lightgray'), (2.*colormax-2.*greylimit)/(4.*colormax), c('lightgray'),c('lightgray'), (2.*colormax+2.*greylimit)/(4.*colormax), c('lightgray'),c('red'), 1., c('red')]\n",
    "custom_cmap = make_colormap(colorlist,name)\n",
    "register_cmap(name=custom_cmap.name, cmap=custom_cmap)\n",
    "palette=custom_cmap.name\n",
    "\n",
    "colorVal=get_colors(val=value,xmin=-colormax,xmax=colormax,palette=palette)\n",
    "print colorVal.shape,value.shape,lonwav.shape"
   ]
  },
  {
   "cell_type": "code",
   "execution_count": null,
   "metadata": {
    "collapsed": false
   },
   "outputs": [],
   "source": [
    "# Make the figure\n",
    "fig = plt.figure(figsize=(12, 4), dpi=300, facecolor='w')\n",
    "\n",
    "ax = fig.add_subplot(121)\n",
    "m = Basemap(projection='robin', lon_0=0,resolution='c',ax=ax)\n",
    "m.drawcoastlines()\n",
    "x, y = m(lonwav,latwav); \n",
    "cm = get_cmap(palette)\n",
    "sc = ax.scatter(x, y, c=colorVal, vmin=-colormax, vmax=colormax, edgecolor= '', cmap=cm)\n",
    "  \n",
    "# Set title\n",
    "titlestr='N='+str(N)+', Jmax='+str(Jmax)+', wavelet#'+str(ii+1) \\\n",
    "            +'/'+str(Nbasis)+', face#'+str(face+1)\n",
    "ax.set_title(titlestr,fontsize=12)\n",
    "\n",
    "# draw parallels and meridians.\n",
    "# labels = [left,right,top,bottom]\n",
    "parallels = np.arange(-60,90,30.)\n",
    "m.drawparallels(parallels,labels=[False,True,False,False])\n",
    "meridians = np.arange(0.,360.,90.)\n",
    "m.drawmeridians(meridians,labels=[False,False,False,True])\n",
    "\n",
    "####### Plot within the face\n",
    "ax = fig.add_subplot(122)\n",
    "findnonzeros = np.where(value != 0.)   \n",
    "lonwavsel=lonwav[findnonzeros];latwavsel=latwav[findnonzeros]\n",
    "colorValsel=colorVal[findnonzeros] ;valuesel=value[findnonzeros]\n",
    "\n",
    "m = Basemap(projection='cyl',llcrnrlat=min(latwavsel)-5.,urcrnrlat=max(latwavsel)+5.,\\\n",
    "            llcrnrlon=min(lonwavsel)-5.,urcrnrlon=max(lonwavsel)+5.,resolution='c',ax=ax)\n",
    "m.drawcoastlines()\n",
    "m.drawcoastlines()\n",
    "x, y = m(lonwavsel,latwavsel); \n",
    "cm = get_cmap(palette)\n",
    "sc = ax.scatter(x, y, c=colorValsel, vmin=-colormax, vmax=colormax, edgecolor= '', cmap=cm)\n",
    "ax.set_title('Non-zero points',fontsize=12) \n",
    "    \n",
    "# create an axes on the right side of ax. The width of cax will be 5%\n",
    "# of ax and the padding between cax and ax will be fixed at 0.05 inch.\n",
    "#divider = make_axes_locatable(ax)\n",
    "#cax = divider.append_axes(\"left\", size=\"5%\", pad=0.1)\t\n",
    "#cbar=colorbar(sc, cax=cax, orientation=\"horizontal\",ticklocation=\"top\")\n",
    "#tick_locator = ticker.MaxNLocator(nbins=9)\n",
    "#cbar.locator = tick_locator\n",
    "#cbar.update_ticks()\n",
    "#cbar.ax.tick_params(labelsize=12) \n",
    "\n",
    "\n",
    "\n",
    "# draw parallels and meridians.\n",
    "spacing = int((max(latwavsel)-min(latwavsel))/2.)\n",
    "parallels = np.arange(-90,90,spacing)\n",
    "m.drawparallels(parallels,labels=[False,True,False,False])\n",
    "spacing = int((max(lonwavsel)-min(lonwavsel))/2.)\n",
    "meridians = np.arange(-180.,180.,spacing)\n",
    "m.drawmeridians(meridians,labels=[False,False,False,True])\n",
    "\n",
    "plt.show()"
   ]
  },
  {
   "cell_type": "code",
   "execution_count": null,
   "metadata": {
    "collapsed": false
   },
   "outputs": [],
   "source": [
    "print Grids['MetaEulerNames'][0][0][0]\n",
    "print Grids['MetaEulerVals'][0]\n",
    "print Grids['face'][:,0]"
   ]
  },
  {
   "cell_type": "code",
   "execution_count": null,
   "metadata": {
    "collapsed": true
   },
   "outputs": [],
   "source": []
  }
 ],
 "metadata": {
  "kernelspec": {
   "display_name": "Python 2",
   "language": "python",
   "name": "python2"
  },
  "language_info": {
   "codemirror_mode": {
    "name": "ipython",
    "version": 2
   },
   "file_extension": ".py",
   "mimetype": "text/x-python",
   "name": "python",
   "nbconvert_exporter": "python",
   "pygments_lexer": "ipython2",
   "version": "2.7.13"
  }
 },
 "nbformat": 4,
 "nbformat_minor": 0
}
