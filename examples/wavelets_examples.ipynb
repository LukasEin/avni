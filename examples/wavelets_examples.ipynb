{
 "cells": [
  {
   "cell_type": "markdown",
   "metadata": {},
   "source": [
    "This example does this...... write in Markdown\n",
    "\n",
    "\n",
    "\n"
   ]
  },
  {
   "cell_type": "code",
   "execution_count": 3,
   "metadata": {
    "collapsed": false
   },
   "outputs": [],
   "source": [
    "#importing standard modules\n",
    "import math\n",
    "import os\n",
    "import glob\n",
    "import re\n",
    "import matplotlib.pyplot as plt\n",
    "import numpy as np\n",
    "import subprocess as sub\n",
    "import shutil\n",
    "import sys\n",
    "import scipy as sci\n",
    "import scipy.io as sio\n",
    "%matplotlib inline\n",
    "from scipy.sparse import csr_matrix, rand\n",
    "from mpl_toolkits.basemap import Basemap\n",
    "import matplotlib.colors as colors\n",
    "from matplotlib.pyplot import register_cmap,get_cmap,colorbar\n",
    "from mpl_toolkits.axes_grid1 import make_axes_locatable\n",
    "####################       IMPORT PM's MODULES     ######################################\n",
    "from plottingPM import get_colors,grayify_cmap,make_colormap,customcolorpalette\n",
    "from drawmapsection3D import get_distaz,delazgc_helper,writejson,readjson, \\\n",
    "    plot_hotspots,plot_plates,plot_gcpaths,get_fullpath,sanitised_input,uniquenumpyrow"
   ]
  },
  {
   "cell_type": "code",
   "execution_count": 6,
   "metadata": {
    "collapsed": false
   },
   "outputs": [],
   "source": [
    "####SETUP\n",
    "Database_Path = '../rem3d/files/'\n",
    "N = 7\n",
    "Jmax = 4\n",
    "WaveletBasisFn = 'D4'\n",
    "eo =0\n",
    "EulerConfig = 1\n",
    "ModelName = 'ME16_Vp'\n",
    "\n",
    "##Naming Conventions\n",
    "DVBasisName = 'DVmaps.'+ 'N' + str(N) + '.J' + str(Jmax) + '.' + WaveletBasisFn + '.mat'\n",
    "WaveletCoeffBasisName = 'VWCoeffs.' + 'N'+str(N) + '.J' + str(Jmax) + '.' + \\\n",
    "                        WaveletBasisFn + '.mat'\n",
    "GridName= 'Grid_N' + str(N) + '_Jmax' + str(Jmax) + \\\n",
    "          '_EulerConfig' + str(EulerConfig) + '.mat'\n",
    "VeloName = ModelName + '.N' + str(N) + '.Jmax' + str(Jmax) +  \\\n",
    "          '.EulerConfig' + str(EulerConfig) + '.mat'\n",
    "\n",
    "####Read\n",
    "WaveletBasis = sio.loadmat(Database_Path + DVBasisName)\n",
    "WaveletCoeffBasis = sio.loadmat(Database_Path + WaveletCoeffBasisName)\n",
    "Grids = sio.loadmat(Database_Path + GridName)\n",
    "ModelFile = sio.loadmat(Database_Path + VeloName)\n",
    "####"
   ]
  },
  {
   "cell_type": "code",
   "execution_count": null,
   "metadata": {
    "collapsed": false
   },
   "outputs": [],
   "source": [
    "#Plot a wavelet on x,y\n",
    "Nbasis = len(WaveletBasis['Me'][0,:])\n",
    "ii = 0 # Choose a wavelet\n",
    "plt.matshow(WaveletBasis['Me'][0,1][0].toarray())"
   ]
  },
  {
   "cell_type": "code",
   "execution_count": null,
   "metadata": {
    "collapsed": false
   },
   "outputs": [],
   "source": [
    "#Plot a wavelet from a selected face\n",
    "face = 6 #out of 0-5\n",
    "ii = 1 #0-16383\n",
    "\n",
    "\n",
    "N = Grids['MetaN'][0][0]\n",
    "ScaleIndex = Grids['ScaleIndex'][0][0]\n",
    "print ScaleIndex\n",
    "Jmax = Grids['MetaJmax'][0][0]\n",
    "lonwav = Grids['lon'][face*Nbasis:(face+1)*Nbasis]\n",
    "latwav = Grids['lat'][face*Nbasis:(face+1)*Nbasis]\n",
    "value = WaveletBasis['Me'][0,ii][0].toarray()\n",
    "value = value.flatten()\n",
    "\n",
    "# Define a colorscale\n",
    "colormax=np.amax(abs(value)) #(-colormax,colormax) are the limits of the colorbar\n",
    "greylimit=0.001*colormax  #this is the limit to which the middle color (grey) will extend on either side of colorttmax mid\n",
    "name='r_lgrey_b'\n",
    "c = colors.ColorConverter().to_rgb\n",
    "colorlist=[c('blue'), c('lightgray'), (2.*colormax-2.*greylimit)/(4.*colormax), c('lightgray'),c('lightgray'), (2.*colormax+2.*greylimit)/(4.*colormax), c('lightgray'),c('red'), 1., c('red')]\n",
    "custom_cmap = make_colormap(colorlist,name)\n",
    "register_cmap(name=custom_cmap.name, cmap=custom_cmap)\n",
    "palette=custom_cmap.name\n",
    "\n",
    "colorVal=get_colors(val=value,xmin=-colormax,xmax=colormax,palette=palette)\n",
    "print colorVal.shape,value.shape,lonwav.shape"
   ]
  },
  {
   "cell_type": "code",
   "execution_count": null,
   "metadata": {
    "collapsed": false
   },
   "outputs": [],
   "source": [
    "# Make the figure\n",
    "fig = plt.figure(figsize=(12, 4), dpi=300, facecolor='w')\n",
    "\n",
    "ax = fig.add_subplot(121)\n",
    "m = Basemap(projection='robin', lon_0=0,resolution='c',ax=ax)\n",
    "m.drawcoastlines()\n",
    "x, y = m(lonwav,latwav); \n",
    "cm = get_cmap(palette)\n",
    "sc = ax.scatter(x, y, c=colorVal, vmin=-colormax, vmax=colormax, edgecolor= '', cmap=cm)\n",
    "  \n",
    "# Set title\n",
    "titlestr='N='+str(N)+', Jmax='+str(Jmax)+', wavelet#'+str(ii+1) \\\n",
    "            +'/'+str(Nbasis)+', face#'+str(face+1)\n",
    "ax.set_title(titlestr,fontsize=12)\n",
    "\n",
    "# draw parallels and meridians.\n",
    "# labels = [left,right,top,bottom]\n",
    "parallels = np.arange(-60,90,30.)\n",
    "m.drawparallels(parallels,labels=[False,True,False,False])\n",
    "meridians = np.arange(0.,360.,90.)\n",
    "m.drawmeridians(meridians,labels=[False,False,False,True])\n",
    "\n",
    "####### Plot within the face\n",
    "ax = fig.add_subplot(122)\n",
    "findnonzeros = np.where(value != 0.)   \n",
    "lonwavsel=lonwav[findnonzeros];latwavsel=latwav[findnonzeros]\n",
    "colorValsel=colorVal[findnonzeros] ;valuesel=value[findnonzeros]\n",
    "\n",
    "m = Basemap(projection='cyl',llcrnrlat=min(latwavsel)-5.,urcrnrlat=max(latwavsel)+5.,\\\n",
    "            llcrnrlon=min(lonwavsel)-5.,urcrnrlon=max(lonwavsel)+5.,resolution='c',ax=ax)\n",
    "m.drawcoastlines()\n",
    "m.drawcoastlines()\n",
    "x, y = m(lonwavsel,latwavsel); \n",
    "cm = get_cmap(palette)\n",
    "sc = ax.scatter(x, y, c=colorValsel, vmin=-colormax, vmax=colormax, edgecolor= '', cmap=cm)\n",
    "ax.set_title('Non-zero points',fontsize=12) \n",
    "    \n",
    "# create an axes on the right side of ax. The width of cax will be 5%\n",
    "# of ax and the padding between cax and ax will be fixed at 0.05 inch.\n",
    "#divider = make_axes_locatable(ax)\n",
    "#cax = divider.append_axes(\"left\", size=\"5%\", pad=0.1)\t\n",
    "#cbar=colorbar(sc, cax=cax, orientation=\"horizontal\",ticklocation=\"top\")\n",
    "#tick_locator = ticker.MaxNLocator(nbins=9)\n",
    "#cbar.locator = tick_locator\n",
    "#cbar.update_ticks()\n",
    "#cbar.ax.tick_params(labelsize=12) \n",
    "\n",
    "\n",
    "\n",
    "# draw parallels and meridians.\n",
    "spacing = int((max(latwavsel)-min(latwavsel))/2.)\n",
    "parallels = np.arange(-90,90,spacing)\n",
    "m.drawparallels(parallels,labels=[False,True,False,False])\n",
    "spacing = int((max(lonwavsel)-min(lonwavsel))/2.)\n",
    "meridians = np.arange(-180.,180.,spacing)\n",
    "m.drawmeridians(meridians,labels=[False,False,False,True])\n",
    "\n",
    "plt.show()"
   ]
  },
  {
   "cell_type": "code",
   "execution_count": null,
   "metadata": {
    "collapsed": false
   },
   "outputs": [],
   "source": [
    "print Grids['MetaEulerNames'][0][0][0]\n",
    "print Grids['MetaEulerVals'][0]\n",
    "print Grids['face'][:,0]"
   ]
  },
  {
   "cell_type": "code",
   "execution_count": null,
   "metadata": {
    "collapsed": true
   },
   "outputs": [],
   "source": []
  }
 ],
 "metadata": {
  "kernelspec": {
   "display_name": "Python 2",
   "language": "python",
   "name": "python2"
  },
  "language_info": {
   "codemirror_mode": {
    "name": "ipython",
    "version": 2
   },
   "file_extension": ".py",
   "mimetype": "text/x-python",
   "name": "python",
   "nbconvert_exporter": "python",
   "pygments_lexer": "ipython2",
   "version": "2.7.13"
  }
 },
 "nbformat": 4,
 "nbformat_minor": 0
}
