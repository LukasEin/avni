{
 "cells": [
  {
   "cell_type": "markdown",
   "metadata": {},
   "source": [
    "This example does this...... write in Markdown\n",
    "\n",
    "\n",
    "\n"
   ]
  },
  {
   "cell_type": "code",
   "execution_count": 1,
   "metadata": {
    "collapsed": true
   },
   "outputs": [],
   "source": [
    "#importing standard modules\n",
    "import math\n",
    "import os\n",
    "import glob\n",
    "import re\n",
    "import matplotlib.pyplot as plt\n",
    "import numpy as np\n",
    "import subprocess as sub\n",
    "import shutil\n",
    "import sys\n",
    "import scipy as sci\n",
    "import scipy.io as sio\n",
    "%matplotlib inline\n",
    "from scipy.sparse import csr_matrix, rand"
   ]
  },
  {
   "cell_type": "code",
   "execution_count": null,
   "metadata": {
    "collapsed": true
   },
   "outputs": [],
   "source": [
    "####SETUP\n",
    "Database_Path = '../rem3d/files/'\n",
    "N = 7\n",
    "Jmax = 4\n",
    "WaveletBasisFn = 'D4'\n",
    "eo =0\n",
    "EulerConfig = 1\n",
    "\n",
    "##Naming Conventions\n",
    "DVBasisName = 'DVmaps.'+ 'N' + str(N) + '.J' + str(Jmax) + '.' + WaveletBasisFn + '.mat'\n",
    "WaveletCoeffBasisName = 'VWCoeffs.' + 'N'+str(N) + '.J' + str(Jmax) + '.' + WaveletBasisFn + '.mat'\n",
    "GridName= 'Grid_N' + str(N) + '_Jmax' + str(Jmax) +  '_eo' + str(eo) + '_EulerConfig' + str(EulerConfig) + '.mat'\n",
    "VeloName = 'DVWvN'+ str(N) + '_Jmax' + str(Jmax) +  '_eo' + str(eo) + '_EulerConfig' + str(EulerConfig) + '.mat'\n",
    "\n",
    "####Read\n",
    "WaveletBasis = sio.loadmat(Database_Path + DVBasisName)\n",
    "WaveletCoeffBasis = sio.loadmat(Database_Path + WaveletCoeffBasisName)\n",
    "Grids = sio.loadmat(Database_Path + GridName)\n",
    "ModelFile = sio.loadmat(Database_Path + VeloName)\n",
    "####"
   ]
  },
  {
   "cell_type": "code",
   "execution_count": null,
   "metadata": {
    "collapsed": true
   },
   "outputs": [],
   "source": []
  }
 ],
 "metadata": {
  "kernelspec": {
   "display_name": "Python 2",
   "language": "python",
   "name": "python2"
  },
  "language_info": {
   "codemirror_mode": {
    "name": "ipython",
    "version": 2
   },
   "file_extension": ".py",
   "mimetype": "text/x-python",
   "name": "python",
   "nbconvert_exporter": "python",
   "pygments_lexer": "ipython2",
   "version": "2.7.13"
  }
 },
 "nbformat": 4,
 "nbformat_minor": 0
}
