{
 "cells": [
  {
   "cell_type": "markdown",
   "metadata": {},
   "source": [
    "# 3D Earth model plotting and analysis\n",
    "\n",
    "Avni has tools to visualize and interact with global models that are written in our custom hdf5 format (Citation of Tools paper?). Users have two options to use the tools. First, if a user has the model file saved locally, they can use Avni's Model3D class which includes a variety of methods including reading, writing, and plotting. Typically, 3D global models have large files so it may not always be desirable to download them locally. In this case, users can use Avni's API to interact with our database of global Earth models. Below, we will show examples of both use cases. "
   ]
  },
  {
   "cell_type": "markdown",
   "metadata": {},
   "source": [
    "## 1) Plotting with local models\n",
    "\n",
    "### Import avni modules"
   ]
  },
  {
   "cell_type": "code",
   "execution_count": 1,
   "metadata": {},
   "outputs": [],
   "source": [
    "import avni\n",
    "from avni import models\n",
    "from avni.models import Model3D\n",
    "from avni.plots import plot1section,plot1globalmap"
   ]
  },
  {
   "cell_type": "markdown",
   "metadata": {},
   "source": [
    "### Read tomography model S362ANI+M (Moulik and Ekstrom, 2016)"
   ]
  },
  {
   "cell_type": "code",
   "execution_count": 2,
   "metadata": {},
   "outputs": [
    {
     "name": "stdout",
     "output_type": "stream",
     "text": [
      "Traceback (most recent call last):\n",
      "  File \"/Users/rmaguire/Tools/avni/avni/models/model3d.py\", line 132, in read\n",
      "    self.readhdf5(hf)\n",
      "  File \"/Users/rmaguire/Tools/avni/avni/models/model3d.py\", line 212, in readhdf5\n",
      "    raise ValueError(\"... choose one from multiple query \"+strsum)\n",
      "ValueError: ... choose one from multiple query  , 410 , 650 , CMB , as , depth , latitude , longitude , pixel_width , vs , vsh , vsv\n",
      "\n",
      "During handling of the above exception, another exception occurred:\n",
      "\n",
      "Traceback (most recent call last):\n",
      "  File \"/Users/rmaguire/Tools/avni/avni/models/realization.py\", line 109, in read\n",
      "    self.decode_units()\n",
      "  File \"/Users/rmaguire/Tools/avni/avni/models/realization.py\", line 133, in decode_units\n",
      "    raise ValueError('decoding units not possible without '+key+' initialized from model file and attributes.ini')\n",
      "ValueError: decoding units not possible without absolute_unit initialized from model file and attributes.ini\n",
      "\n",
      "Warning: kernel_set could not be initialized in realization instance for /Users/rmaguire/Desktop/Manuscripts/Avni/S362ANI+M.BOX25km_PIX1X1.rem3d.nc4\n"
     ]
    }
   ],
   "source": [
    "#m = model3d('/Users/rmaguire/Desktop/Manuscripts/Avni/S362ANI+M.BOX25km_PIX1X1.rem3d.nc4')\n",
    "#m = models.model3d('/Users/rmaguire/Desktop/Manuscripts/Avni/S362ANI+M.BOX25km_PIX1X1.rem3d.nc4')\n",
    "m = Model3D('/Users/rmaguire/Desktop/Manuscripts/Avni/S362ANI+M.BOX25km_PIX1X1.rem3d.nc4')"
   ]
  },
  {
   "cell_type": "code",
   "execution_count": 3,
   "metadata": {},
   "outputs": [],
   "source": [
    "#latitude,longitude,azimuth,gcdelta,model,parameter,\n",
    "#plot1section(latitude=0,longitude=0,azimuth=0,gcdelta=90,model='S362ANI+M.BOX25km_PIX1X1.rem3d.nc4',parameter='vs')"
   ]
  },
  {
   "cell_type": "code",
   "execution_count": 4,
   "metadata": {},
   "outputs": [
    {
     "data": {
      "text/plain": [
       "200"
      ]
     },
     "execution_count": 4,
     "metadata": {},
     "output_type": "execute_result"
    }
   ],
   "source": [
    "directory = avni.tools.get_filedir()\n",
    "filename = 'S362ANI+M.BOX25km_PIX1X1.rem3d.nc4'\n",
    "avni.data.update_file(filename)"
   ]
  },
  {
   "cell_type": "code",
   "execution_count": 5,
   "metadata": {},
   "outputs": [
    {
     "name": "stdout",
     "output_type": "stream",
     "text": [
      "Traceback (most recent call last):\n",
      "  File \"/Users/rmaguire/Tools/avni/avni/models/model3d.py\", line 132, in read\n",
      "    self.readhdf5(hf)\n",
      "  File \"/Users/rmaguire/Tools/avni/avni/models/model3d.py\", line 212, in readhdf5\n",
      "    raise ValueError(\"... choose one from multiple query \"+strsum)\n",
      "ValueError: ... choose one from multiple query  , as , depth , latitude , longitude , topo410 , topo650 , topoCMB , vs , vsh , vsv\n",
      "\n",
      "During handling of the above exception, another exception occurred:\n",
      "\n",
      "Traceback (most recent call last):\n",
      "  File \"/Users/rmaguire/Tools/avni/avni/models/realization.py\", line 88, in read\n",
      "    self.readascii(file)\n",
      "  File \"/Users/rmaguire/Tools/avni/avni/models/realization.py\", line 268, in readascii\n",
      "    model=read3dmodelfile(modelfile)\n",
      "  File \"/Users/rmaguire/Tools/avni/avni/models/common.py\", line 117, in read3dmodelfile\n",
      "    with open(modelfile) as f: lines = f.readlines()\n",
      "  File \"/Users/rmaguire/anaconda2/envs/avni/lib/python3.7/codecs.py\", line 322, in decode\n",
      "    (result, consumed) = self._buffer_decode(data, self.errors, final)\n",
      "UnicodeDecodeError: 'utf-8' codec can't decode byte 0x89 in position 0: invalid start byte\n",
      "\n",
      "Traceback (most recent call last):\n",
      "  File \"/Users/rmaguire/Tools/avni/avni/models/model3d.py\", line 132, in read\n",
      "    self.readhdf5(hf)\n",
      "  File \"/Users/rmaguire/Tools/avni/avni/models/model3d.py\", line 212, in readhdf5\n",
      "    raise ValueError(\"... choose one from multiple query \"+strsum)\n",
      "ValueError: ... choose one from multiple query  , as , depth , latitude , longitude , topo410 , topo650 , topoCMB , vs , vsh , vsv\n",
      "\n",
      "During handling of the above exception, another exception occurred:\n",
      "\n",
      "Traceback (most recent call last):\n",
      "  File \"/Users/rmaguire/Tools/avni/avni/models/realization.py\", line 88, in read\n",
      "    self.readascii(file)\n",
      "  File \"/Users/rmaguire/Tools/avni/avni/models/realization.py\", line 268, in readascii\n",
      "    model=read3dmodelfile(modelfile)\n",
      "  File \"/Users/rmaguire/Tools/avni/avni/models/common.py\", line 117, in read3dmodelfile\n",
      "    with open(modelfile) as f: lines = f.readlines()\n",
      "  File \"/Users/rmaguire/anaconda2/envs/avni/lib/python3.7/codecs.py\", line 322, in decode\n",
      "    (result, consumed) = self._buffer_decode(data, self.errors, final)\n",
      "UnicodeDecodeError: 'utf-8' codec can't decode byte 0x89 in position 0: invalid start byte\n",
      "\n",
      "During handling of the above exception, another exception occurred:\n",
      "\n",
      "Traceback (most recent call last):\n",
      "  File \"/Users/rmaguire/anaconda2/envs/avni/lib/python3.7/site-packages/xarray/core/dataset.py\", line 1166, in _construct_dataarray\n",
      "    variable = self._variables[name]\n",
      "KeyError: 'pixel_width'\n",
      "\n",
      "During handling of the above exception, another exception occurred:\n",
      "\n",
      "Traceback (most recent call last):\n",
      "  File \"/Users/rmaguire/Tools/avni/avni/models/realization.py\", line 93, in read\n",
      "    self.readnc4(ds)\n",
      "  File \"/Users/rmaguire/Tools/avni/avni/models/realization.py\", line 330, in readnc4\n",
      "    metadata['xsipix'][0][indx:indx+nlon]=ds['pixel_width'].values[ilat]\n",
      "  File \"/Users/rmaguire/anaconda2/envs/avni/lib/python3.7/site-packages/xarray/core/dataset.py\", line 1268, in __getitem__\n",
      "    return self._construct_dataarray(key)\n",
      "  File \"/Users/rmaguire/anaconda2/envs/avni/lib/python3.7/site-packages/xarray/core/dataset.py\", line 1169, in _construct_dataarray\n",
      "    self._variables, name, self._level_coords, self.dims\n",
      "  File \"/Users/rmaguire/anaconda2/envs/avni/lib/python3.7/site-packages/xarray/core/dataset.py\", line 171, in _get_virtual_variable\n",
      "    ref_var = variables[ref_name]\n",
      "KeyError: 'pixel_width'\n",
      "\n",
      "Traceback (most recent call last):\n",
      "  File \"/Users/rmaguire/Tools/avni/avni/models/model3d.py\", line 132, in read\n",
      "    self.readhdf5(hf)\n",
      "  File \"/Users/rmaguire/Tools/avni/avni/models/model3d.py\", line 212, in readhdf5\n",
      "    raise ValueError(\"... choose one from multiple query \"+strsum)\n",
      "ValueError: ... choose one from multiple query  , as , depth , latitude , longitude , topo410 , topo650 , topoCMB , vs , vsh , vsv\n",
      "\n",
      "During handling of the above exception, another exception occurred:\n",
      "\n",
      "Traceback (most recent call last):\n",
      "  File \"/Users/rmaguire/Tools/avni/avni/models/realization.py\", line 107, in read\n",
      "    self['kernel_set'] = Kernel_set(self.metadata.copy())\n",
      "AttributeError: 'NoneType' object has no attribute 'copy'\n",
      "\n",
      "Warning: kernel_set could not be initialized in realization instance for /Users/rmaguire/Tools/avni/avni/files/S362ANI+M.BOX25km_PIX1X1.rem3d.nc4\n"
     ]
    }
   ],
   "source": [
    "file = directory+'/'+filename\n",
    "S362ANIM = avni.models.Model3D(file)"
   ]
  },
  {
   "cell_type": "code",
   "execution_count": null,
   "metadata": {},
   "outputs": [],
   "source": []
  },
  {
   "cell_type": "markdown",
   "metadata": {},
   "source": [
    "## 2) Plotting with API"
   ]
  },
  {
   "cell_type": "code",
   "execution_count": null,
   "metadata": {},
   "outputs": [],
   "source": []
  },
  {
   "cell_type": "markdown",
   "metadata": {},
   "source": [
    "### Import avni modules"
   ]
  },
  {
   "cell_type": "code",
   "execution_count": 6,
   "metadata": {},
   "outputs": [],
   "source": [
    "from avni.api.client import Client as avapi\n",
    "from avni.api.model import Model"
   ]
  },
  {
   "cell_type": "markdown",
   "metadata": {},
   "source": [
    "### Connect to the avni server to access model database\n",
    "\n",
    "Connecting the avni server, which hosts a database of 3D global tomography models, requires an \"API key\". To acquire your API key, register at https://maurya.umd.edu/tools/applets/. Here we will use an activated API key as an example."
   ]
  },
  {
   "cell_type": "code",
   "execution_count": 7,
   "metadata": {},
   "outputs": [
    {
     "name": "stdout",
     "output_type": "stream",
     "text": [
      "avni api is live at \n",
      "http://maurya.umd.edu:41559\n",
      "API Key validated\n"
     ]
    }
   ],
   "source": [
    "conn=avapi(api_key='ae691a174e5fef17f28bfad58f66956b5ca820f063fbb2e6a41dfffc17c11f6d')"
   ]
  },
  {
   "cell_type": "markdown",
   "metadata": {},
   "source": [
    "### Create an instance of the Model class, and plot a cross section\n",
    "An instance of the avni api Model class is initialized by providing the api connection as an argument. A variety of useful class methods then become available. For example, we can list all of the available models on the avni server using the $\\mathrm{listModels()}$ method, which returns a dictionary object containing the names and metadata of available models.\n",
    "\n",
    "To create a cross section of one of the models, we will call the $\\mathrm{crossSection()}$ method. This method requires an argument dictionary that specifies the model name and the geometry of the cross section. The required arguments are the latitude and longitude of the center of the cross section, the azimuth, and the great circle distance. "
   ]
  },
  {
   "cell_type": "code",
   "execution_count": 8,
   "metadata": {},
   "outputs": [
    {
     "name": "stdout",
     "output_type": "stream",
     "text": [
      "{'3d': {'available': ['S40RTS', 'GAP_P4', 'S362ANI+M', 'MITP08'], 'details': {'S40RTS': {'parameters': ['vp', 'vs', 'rho'], 'vp': {'refmodel': 'PREM', 'description': 'Vp anomaly scaled from Vs', 'absolute_unit': 'm/s', 'unit': 'percent'}, 'vs': {'refmodel': 'PREM', 'description': 'Voigt-averaged Shear-Wave Velocity anomaly', 'absolute_unit': 'm/s', 'unit': 'percent'}, 'rho': {'refmodel': 'PREM', 'description': 'density anomaly scaled from Vs', 'absolute_unit': 'kg/m^3', 'unit': 'percent'}, 'kernel': 'BOX25km_PIX1X1'}, 'GAP_P4': {'parameters': ['vp'], 'vp': {'refmodel': 'None', 'description': 'Voigt-averaged Compressional-Wave Velocity', 'absolute_unit': 'm/s', 'unit': 'percent'}, 'kernel': 'BOX25km_PIX0.625X0.625'}, 'S362ANI+M': {'parameters': ['vs', 'vsh', 'vsv'], 'vs': {'refmodel': 'STW105', 'description': 'Voigt-averaged Shear-Wave Velocity', 'absolute_unit': 'm/s', 'unit': 'percent'}, 'vsh': {'refmodel': 'STW105', 'description': 'Horizontally polarized Shear-Wave Velocity', 'absolute_unit': 'm/s', 'unit': 'percent'}, 'vsv': {'refmodel': 'STW105', 'description': 'Vertically polarized Shear-Wave Velocity', 'absolute_unit': 'm/s', 'unit': 'percent'}, 'kernel': 'BOX25km_PIX1X1'}, 'MITP08': {'parameters': ['vp'], 'vp': {'refmodel': 'AK135', 'description': 'Voigt-averaged Compressional-Wave Velocity', 'absolute_unit': 'm/s', 'unit': 'percent'}, 'kernel': 'BOX25km_0.703X0.703'}}}, '1d': {'available': ['PREM_024.rts', 'NOH2O.RAYS', 'STW105', 'NOH2O', 'AK135']}, 'call_complete': True}\n"
     ]
    }
   ],
   "source": [
    "ModelInstance = Model(conn)\n",
    "models_dict = ModelInstance.listModels() #list all available models\n",
    "print(models_dict)\n",
    "\n",
    "#create cross section\n",
    "args = {}                      #empty argument dictionary\n",
    "args['model'] = 'S362ANI+M'    #tomography model\n",
    "args['lat'] = 42.2             #latitude of center point\n",
    "args['lon'] = 232.0            #longitude of center point\n",
    "args['azimuth'] = 80.0         #azimuth of slice\n",
    "args['gcdelta'] = 100.0        #great circle distance of the slice in degrees\n",
    "\n",
    "cross_sec = ModelInstance.crossSection(args)"
   ]
  },
  {
   "cell_type": "code",
   "execution_count": 9,
   "metadata": {},
   "outputs": [
    {
     "data": {
      "text/plain": [
       "dict_keys(['vs', 'parameter', 'lat', 'lon', 'depth', 'call_complete', 'theta'])"
      ]
     },
     "execution_count": 9,
     "metadata": {},
     "output_type": "execute_result"
    }
   ],
   "source": [
    "cross_sec.keys()"
   ]
  },
  {
   "cell_type": "code",
   "execution_count": null,
   "metadata": {},
   "outputs": [],
   "source": []
  }
 ],
 "metadata": {
  "kernelspec": {
   "display_name": "Python 3",
   "language": "python",
   "name": "python3"
  },
  "language_info": {
   "codemirror_mode": {
    "name": "ipython",
    "version": 3
   },
   "file_extension": ".py",
   "mimetype": "text/x-python",
   "name": "python",
   "nbconvert_exporter": "python",
   "pygments_lexer": "ipython3",
   "version": "3.7.6"
  }
 },
 "nbformat": 4,
 "nbformat_minor": 2
}
