{
 "cells": [
  {
   "cell_type": "code",
   "execution_count": 1,
   "metadata": {
    "collapsed": true
   },
   "outputs": [],
   "source": [
    "##########\n",
    "#importing standard modules\n",
    "import math\n",
    "import os\n",
    "import glob\n",
    "import re\n",
    "import matplotlib.pyplot as plt\n",
    "import numpy as np\n",
    "import subprocess as sub\n",
    "import shutil\n",
    "import sys\n",
    "import scipy as sci\n",
    "import scipy.io as sio\n",
    "from scipy.stats.stats import pearsonr\n",
    "%matplotlib inline\n",
    "from scipy.sparse import csr_matrix, rand\n",
    "from mpl_toolkits.basemap import Basemap\n",
    "import matplotlib.colors as colors\n",
    "from matplotlib.pyplot import register_cmap,get_cmap,colorbar\n",
    "import matplotlib.pyplot as plt\n",
    "from mpl_toolkits.axes_grid1 import make_axes_locatable\n",
    "####################       IMPORT PM's MODULES     ######################################\n",
    "from plottingPM import get_colors,grayify_cmap,make_colormap,customcolorpalette\n",
    "from drawmapsection3D import get_distaz,delazgc_helper,writejson,readjson, \\\n",
    "    plot_hotspots,plot_plates,plot_gcpaths,get_fullpath,sanitised_input,uniquenumpyrow\n",
    "\n",
    "\n",
    "####################################################\n"
   ]
  },
  {
   "cell_type": "code",
   "execution_count": null,
   "metadata": {
    "collapsed": true
   },
   "outputs": [],
   "source": [
    "\n",
    "def Read_Mat_Files(Database_Path,N,Jmax,WaveletBasisFn,eo,EulerConfig,ModelName,Sphere_Param,Preconditioning):\n",
    "    #    Database_Path = '/home/anant/Software/rem3d/rem3d/files/'\n",
    "    #    N = 7\n",
    "    #    Jmax = 4\n",
    "    #    WaveletBasisFn = 'D4'\n",
    "    #    eo =0\n",
    "    #    EulerConfig = 1\n",
    "    #    ModelName = 'MIT_P08'\n",
    "    #    Sphere_Param = 'SC'\n",
    "    #    Preconditioning = 'Precon'  #Precoff or Precon\n",
    "    ###Compare wavelet coeffients\n",
    "    ####SETUP\n",
    "    NumVals = int(6)*int(2)**(int(2)*int(N))\n",
    "\n",
    "    ####More Setup for File Names\n",
    "    ##Naming Conventions\n",
    "\n",
    "    DVBasisName = Preconditioning + '_Mmaps.'+ 'N' + str(N) + '.J' + str(Jmax) + '.' + WaveletBasisFn + '.mat'\n",
    "    WaveletCoeffBasisName =  Preconditioning+'_WCoeffs.' + 'N'+str(N) + '.J' + str(Jmax) + '.' + \\\n",
    "                                WaveletBasisFn + '.mat'\n",
    "    GridName= Sphere_Param + '_'+'Grid_N' + str(N) + '_Jmax' + str(Jmax) + \\\n",
    "                  '_EulerConfig' + str(EulerConfig) + '.mat'\n",
    "    MITVeloName = Sphere_Param + '_' + ModelName + '.N' + str(N) + '.Jmax' + str(Jmax) +  \\\n",
    "                  '.EulerConfig' + str(EulerConfig) + '.mat'\n",
    "    ####Read the .mat files.\n",
    "    WaveletBasis = sio.loadmat(Database_Path + DVBasisName)\n",
    "    WaveletCoeffBasis = sio.loadmat(Database_Path + WaveletCoeffBasisName)\n",
    "    Grids = sio.loadmat(Database_Path + GridName)\n",
    "    ModelFile = sio.loadmat(Database_Path + MITVeloName)\n",
    "    ####\n",
    "    #Declare some variables\n",
    "    Vvals = MITModelFile['model']\n",
    "    wvcoeffs = MITModelFile['wvcoeffs']\n",
    "    Depths = MITModelFile['depth']\n",
    "    Depth_List = np.unique(Depths)\n",
    "    Depth_List = np.flip(Depth_List,0)\n",
    "    return(DVBasisName,WaveletCoeffBasisName,GridName,MITVeloName,WaveletBasis,WaveletCoeffBasis,Grids,ModelFile,Vvals,wvcoeffs,Depth_List)"
   ]
  }
 ],
 "metadata": {
  "kernelspec": {
   "display_name": "Python 2",
   "language": "python",
   "name": "python2"
  },
  "language_info": {
   "codemirror_mode": {
    "name": "ipython",
    "version": 2
   },
   "file_extension": ".py",
   "mimetype": "text/x-python",
   "name": "python",
   "nbconvert_exporter": "python",
   "pygments_lexer": "ipython2",
   "version": "2.7.13"
  }
 },
 "nbformat": 4,
 "nbformat_minor": 0
}
