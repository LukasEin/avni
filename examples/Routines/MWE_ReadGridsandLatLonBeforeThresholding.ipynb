{
 "cells": [
  {
   "cell_type": "code",
   "execution_count": 7,
   "metadata": {
    "collapsed": true
   },
   "outputs": [],
   "source": [
    "##########\n",
    "#importing standard modules\n",
    "import math\n",
    "import os\n",
    "import glob\n",
    "import re\n",
    "import matplotlib.pyplot as plt\n",
    "import numpy as np\n",
    "import subprocess as sub\n",
    "import shutil\n",
    "import sys\n",
    "import scipy as sci\n",
    "import scipy.io as sio\n",
    "from scipy.stats.stats import pearsonr\n",
    "%matplotlib inline\n",
    "from scipy.sparse import csr_matrix, rand\n",
    "from mpl_toolkits.basemap import Basemap\n",
    "import matplotlib.colors as colors\n",
    "from matplotlib.pyplot import register_cmap,get_cmap,colorbar\n",
    "import matplotlib.pyplot as plt\n",
    "from mpl_toolkits.axes_grid1 import make_axes_locatable\n",
    "####################       IMPORT PM's MODULES     ######################################\n",
    "from plottingPM import get_colors,grayify_cmap,make_colormap,customcolorpalette\n",
    "from drawmapsection3D import get_distaz,delazgc_helper,writejson,readjson, \\\n",
    "    plot_hotspots,plot_plates,plot_gcpaths,get_fullpath,sanitised_input,uniquenumpyrow\n",
    "\n",
    "\n",
    "####################################################"
   ]
  },
  {
   "cell_type": "code",
   "execution_count": 1,
   "metadata": {
    "collapsed": true
   },
   "outputs": [],
   "source": [
    "Database_Path = '/home/anant/Software/rem3d/rem3d/files/'\n",
    "N = 7\n",
    "Jmax = 4\n",
    "WaveletBasisFn = 'D4'\n",
    "eo =0\n",
    "EulerConfig = 1\n",
    "ModelName = 'ME16_Vp'\n",
    "Sphere_Param = 'SC'\n",
    "Preconditioning = 'Precon'  #Precoff or Precon"
   ]
  },
  {
   "cell_type": "code",
   "execution_count": 2,
   "metadata": {
    "collapsed": false
   },
   "outputs": [],
   "source": [
    "import rem3d\n",
    "from rem3d import wavelets"
   ]
  },
  {
   "cell_type": "code",
   "execution_count": 3,
   "metadata": {
    "collapsed": false
   },
   "outputs": [],
   "source": [
    "(GridName,Grids,lat,lon) = wavelets.Read_GridMat_Files(Database_Path,N,Jmax,EulerConfig,ModelName,Sphere_Param)"
   ]
  },
  {
   "cell_type": "code",
   "execution_count": 4,
   "metadata": {
    "collapsed": false
   },
   "outputs": [],
   "source": [
    "N = Grids['MetaN'][0][0]\n",
    "NumPts = int(6)*pow(2,2*N)"
   ]
  },
  {
   "cell_type": "code",
   "execution_count": 8,
   "metadata": {
    "collapsed": false
   },
   "outputs": [
    {
     "data": {
      "text/plain": [
       "[<matplotlib.lines.Line2D at 0x7fe60535ef10>]"
      ]
     },
     "execution_count": 8,
     "metadata": {},
     "output_type": "execute_result"
    },
    {
     "data": {
      "image/png": "[encoded data removed]",
      "text/plain": [
       "<matplotlib.figure.Figure at 0x7fe609c95450>"
      ]
     },
     "metadata": {},
     "output_type": "display_data"
    }
   ],
   "source": [
    "plt.plot(lon,lat)"
   ]
  },
  {
   "cell_type": "code",
   "execution_count": null,
   "metadata": {
    "collapsed": true
   },
   "outputs": [],
   "source": []
  }
 ],
 "metadata": {
  "kernelspec": {
   "display_name": "Python 2",
   "language": "python",
   "name": "python2"
  },
  "language_info": {
   "codemirror_mode": {
    "name": "ipython",
    "version": 2
   },
   "file_extension": ".py",
   "mimetype": "text/x-python",
   "name": "python",
   "nbconvert_exporter": "python",
   "pygments_lexer": "ipython2",
   "version": "2.7.13"
  }
 },
 "nbformat": 4,
 "nbformat_minor": 0
}
