{
 "cells": [
  {
   "cell_type": "code",
   "execution_count": 1,
   "metadata": {
    "collapsed": false
   },
   "outputs": [
    {
     "ename": "NameError",
     "evalue": "name 'Routine_Compilations' is not defined",
     "output_type": "error",
     "traceback": [
      "\u001b[1;31m---------------------------------------------------------------------------\u001b[0m",
      "\u001b[1;31mNameError\u001b[0m                                 Traceback (most recent call last)",
      "\u001b[1;32m<ipython-input-1-7142a4545eec>\u001b[0m in \u001b[0;36m<module>\u001b[1;34m()\u001b[0m\n\u001b[1;32m----> 1\u001b[1;33m \u001b[0mRoutine_Compilations\u001b[0m\u001b[1;33m\u001b[0m\u001b[0m\n\u001b[0m",
      "\u001b[1;31mNameError\u001b[0m: name 'Routine_Compilations' is not defined"
     ]
    }
   ],
   "source": [
    "Routine_Compilations"
   ]
  },
  {
   "cell_type": "code",
   "execution_count": null,
   "metadata": {
    "collapsed": true
   },
   "outputs": [],
   "source": [
    "def Get_Orig_Model(Modelfile,Depth_Interest): \n",
    "    ##Note that the ModelFile here has to follow the conventions as is imported from the .mat file \n",
    "    ##when generated from running the DVmatfile script in wavelets_matlab\n",
    "    Depth_Checker = np.nonzero(ModelFile['depth'] == (Depth_Interest))\n",
    "    DvDepthVals = Vvals[0,Depth_Checker]\n",
    "    return DvDepthVals\n",
    "\n",
    "def Get_RMS(ModelVals):\n",
    "    import numpy as np\n",
    "    rms = np.sqrt(np.mean((abs(ModelVals))**2 )) \n",
    "    return rms\n",
    "    \n",
    "def Get_Scale_Indices(ModelFile,Scale_Interest,GridName,Database_Path):\n",
    "    import numpy as np\n",
    "    Grids = sio.loadmat(Database_Path + GridName)\n",
    "    ##Find the indices on a single face \n",
    "    ##that correspond to a particular scale or set of scales. Best used with basis wavelet maps\n",
    "    for i in range(np.size(Scale_Interest)):\n",
    "            Temp_Scale_Checker = np.nonzero(Grids['ScaleIndex'][0,:] == (Scale_Interest[i]))\n",
    "            if i == 0:\n",
    "                Scale_Checker = Temp_Scale_Checker\n",
    "            elif i > 0:\n",
    "                Scale_Checker = np.concatenate([Scale_Checker,Temp_Scale_Checker],axis=1)\n",
    "    return(Scale_Checker)\n",
    "                \n",
    "def Get_Depth_Wavelet_Coeffs(Modelfile,Depth_Interest): \n",
    "    wvcoeffs = ModelFile['wvcoeffs']\n",
    "    Depth_Checker = np.nonzero(ModelFile['depth'] == (Depth_Interest))\n",
    "    Wavelet_CoeffsForADepth = wvcoeffs[0,Depth_Checker]\n",
    "    Wavelet_CoeffsForADepth = Wavelet_CoeffsForADepth[0]\n",
    "    return(Wavelet_CoeffsForADepth)\n",
    "    \n",
    "    \n",
    "def Construct_Face_Map_From_WaveletCoeffs(wvcoeffs,GridName,Modelfile,Depth_Interest,Scale_Interest,Database_Path,ModelBasisName,N):\n",
    "    NumVals = int(6)*int(2)**(int(2)*int(N))\n",
    "    WaveletBasis = sio.loadmat(Database_Path + ModelBasisName)\n",
    "    Grids = sio.loadmat(Database_Path + GridName)\n",
    "    Depth_Coeffs = Get_Depth_Wavelet_Coeffs(Modelfile,Depth_Interest)\n",
    "    Scale_Checker = Get_Scale_Indices(ModelFile,Scale_Interest,GridName,Database_Path)\n",
    "    \n",
    "    Face1Map = 0;\n",
    "    Face2Map = 0;\n",
    "    Face3Map = 0;\n",
    "    Face4Map = 0;\n",
    "    Face5Map = 0;\n",
    "    Face6Map = 0;\n",
    "    \n",
    "    for i in range(len(Scale_Checker[0])):\n",
    "        Curr_Index = Scale_Checker[0][i] \n",
    "        Curr_BasisIndex = Curr_Index%(NumVals/6)\n",
    "\n",
    "                            #    Curr_Coeff = Depth_100_Coeffs[Curr_Index]\n",
    "        Curr_Coeff = Depth_Coeffs[Curr_Index]\n",
    "        if Grids['face'][Curr_Index] == 1:\n",
    "            Curr_Map = (WaveletBasis['Me'][0,Curr_BasisIndex][0].toarray())\n",
    "            Face1Map = Face1Map+Curr_Map*Curr_Coeff\n",
    "        elif Grids['face'][Curr_Index] == 2:\n",
    "            Curr_Map = (WaveletBasis['Me'][0,Curr_BasisIndex][0].toarray())\n",
    "            Face2Map = Face2Map+Curr_Map*Curr_Coeff\n",
    "        elif Grids['face'][Curr_Index] == 3:\n",
    "            Curr_Map = (WaveletBasis['Me'][0,Curr_BasisIndex][0].toarray())\n",
    "            Face3Map = Face3Map+Curr_Map*Curr_Coeff\n",
    "        elif Grids['face'][Curr_Index] == 4:\n",
    "            Curr_Map = (WaveletBasis['Me'][0,Curr_BasisIndex][0].toarray())\n",
    "            Face4Map = Face4Map+Curr_Map*Curr_Coeff\n",
    "        elif Grids['face'][Curr_Index] == 5:\n",
    "            Curr_Map = (WaveletBasis['Me'][0,Curr_BasisIndex][0].toarray())\n",
    "            Face5Map = Face5Map+Curr_Map*Curr_Coeff\n",
    "        elif Grids['face'][Curr_Index] == 6:\n",
    "            Curr_Map = (WaveletBasis['Me'][0,Curr_BasisIndex][0].toarray())\n",
    "            Face6Map = Face6Map+Curr_Map*Curr_Coeff\n",
    "\n",
    "    All_map =[Face1Map,Face2Map,Face3Map,Face4Map,Face5Map,Face6Map]\n",
    "    return(All_map)\n",
    "\n",
    "def RMS_of_Cubed_Sphere(All_map):\n",
    "    for i in range(len(All_map)):\n",
    "        if i == 0:\n",
    "            value = All_map[i]\n",
    "            value = np.transpose(value)\n",
    "            Fullvalue = value.flatten()\n",
    "        elif i > 0:\n",
    "            value = All_map[i]\n",
    "            value = np.transpose(value)\n",
    "            value = value.flatten()\n",
    "            Fullvalue = np.concatenate([Fullvalue,value],axis=0)\n",
    "    return(Get_RMS(Fullvalue))"
   ]
  }
 ],
 "metadata": {
  "kernelspec": {
   "display_name": "Python 2",
   "language": "python",
   "name": "python2"
  },
  "language_info": {
   "codemirror_mode": {
    "name": "ipython",
    "version": 2
   },
   "file_extension": ".py",
   "mimetype": "text/x-python",
   "name": "python",
   "nbconvert_exporter": "python",
   "pygments_lexer": "ipython2",
   "version": "2.7.13"
  }
 },
 "nbformat": 4,
 "nbformat_minor": 0
}
