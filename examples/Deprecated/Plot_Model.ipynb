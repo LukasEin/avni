{
 "cells": [
  {
   "cell_type": "code",
   "execution_count": 1,
   "metadata": {
    "collapsed": false
   },
   "outputs": [
    {
     "name": "stdout",
     "output_type": "stream",
     "text": [
      "[1, 2, 3, 4, 5]\n"
     ]
    }
   ],
   "source": [
    "##Given a Model, find the indices that correspond to a particular scale. \n",
    "#Then, reconstruct the model at that scale. Do calculations if needed.\n",
    "####SETUP\n",
    "\n",
    "Database_Path = '../rem3d/files/'\n",
    "N = 7\n",
    "Jmax = 4\n",
    "WaveletBasisFn = 'D4'\n",
    "eo =0\n",
    "EulerConfig = 1\n",
    "ModelName = 'MIT_P08'\n",
    "NumVals = int(6)*int(2)**(int(2)*int(N))\n",
    "SC = 1\n",
    "####################################################\n",
    "depths = []\n",
    "counter = 0\n",
    "xcorrcoeffs = []\n",
    "corrdepths = []\n",
    "pvals = []\n",
    "####################################################\n",
    "##########\n",
    "#Options to do different operations in the script.\n",
    "The_Chosen_Depth = 25\n",
    "The_Chosen_Depth = 6371-The_Chosen_Depth\n",
    "Scale_List = [1,2,3,4,5]\n",
    "\n",
    "##########\n",
    "#importing standard modules\n",
    "import math\n",
    "import os\n",
    "import glob\n",
    "import re\n",
    "import matplotlib.pyplot as plt\n",
    "import numpy as np\n",
    "import subprocess as sub\n",
    "import shutil\n",
    "import sys\n",
    "import scipy as sci\n",
    "import scipy.io as sio\n",
    "%matplotlib inline\n",
    "from scipy.sparse import csr_matrix, rand\n",
    "from mpl_toolkits.basemap import Basemap\n",
    "import matplotlib.colors as colors\n",
    "from matplotlib.pyplot import register_cmap,get_cmap,colorbar\n",
    "import matplotlib.pyplot as plt\n",
    "from mpl_toolkits.axes_grid1 import make_axes_locatable\n",
    "####################       IMPORT PM's MODULES     ######################################\n",
    "from plottingPM import get_colors,grayify_cmap,make_colormap,customcolorpalette\n",
    "from drawmapsection3D import get_distaz,delazgc_helper,writejson,readjson, \\\n",
    "    plot_hotspots,plot_plates,plot_gcpaths,get_fullpath,sanitised_input,uniquenumpyrow\n",
    "\n",
    "####More Setup for File Names\n",
    "##Naming Conventions\n",
    "if SC == 1:\n",
    "    DVBasisName = 'Mmaps.'+ 'N' + str(N) + '.J' + str(Jmax) + '.' + WaveletBasisFn + '.mat'\n",
    "    WaveletCoeffBasisName = 'SC_WCoeffs.' + 'N'+str(N) + '.J' + str(Jmax) + '.' + \\\n",
    "                            WaveletBasisFn + '.mat'\n",
    "    GridName= 'SC_'+'Grid_N' + str(N) + '_Jmax' + str(Jmax) + \\\n",
    "              '_EulerConfig' + str(EulerConfig) + '.mat'\n",
    "    VeloName = 'SC_' + ModelName + '.N' + str(N) + '.Jmax' + str(Jmax) +  \\\n",
    "              '.EulerConfig' + str(EulerConfig) + '.mat'\n",
    "else:\n",
    "    DVBasisName = 'Mmaps.'+ 'N' + str(N) + '.J' + str(Jmax) + '.' + WaveletBasisFn + '.mat'\n",
    "    WaveletCoeffBasisName = 'VWCoeffs.' + 'N'+str(N) + '.J' + str(Jmax) + '.' + \\\n",
    "                            WaveletBasisFn + '.mat'\n",
    "    GridName= 'Grid_N' + str(N) + '_Jmax' + str(Jmax) + \\\n",
    "              '_EulerConfig' + str(EulerConfig) + '.mat'\n",
    "    VeloName =  ModelName + '.N' + str(N) + '.Jmax' + str(Jmax) +  \\\n",
    "              '.EulerConfig' + str(EulerConfig) + '.mat'   \n",
    "\n",
    "\n",
    "####Read the .mat files.\n",
    "WaveletBasis = sio.loadmat(Database_Path + DVBasisName)\n",
    "WaveletCoeffBasis = sio.loadmat(Database_Path + WaveletCoeffBasisName)\n",
    "Grids = sio.loadmat(Database_Path + GridName)\n",
    "ModelFile = sio.loadmat(Database_Path + VeloName)\n",
    "####\n",
    "#Declare some variables\n",
    "Vvals = ModelFile['model']\n",
    "wvcoeffs = ModelFile['wvcoeffs']\n",
    "Depths = ModelFile['depth']\n",
    "Depth_List = np.unique(Depths)\n",
    "Depth_List = np.flip(Depth_List,0)\n",
    "Depth_List = np.array([The_Chosen_Depth])\n",
    "\n",
    "################################\n",
    "###Setup the iterations over here. \n",
    "\n",
    "\n",
    "Scale_Interest = Scale_List\n",
    "\n",
    "print(Scale_Interest)"
   ]
  },
  {
   "cell_type": "code",
   "execution_count": 2,
   "metadata": {
    "collapsed": false
   },
   "outputs": [
    {
     "ename": "NameError",
     "evalue": "name 'face' is not defined",
     "output_type": "error",
     "traceback": [
      "\u001b[1;31m---------------------------------------------------------------------------\u001b[0m",
      "\u001b[1;31mNameError\u001b[0m                                 Traceback (most recent call last)",
      "\u001b[1;32m<ipython-input-2-dee57b9bf893>\u001b[0m in \u001b[0;36m<module>\u001b[1;34m()\u001b[0m\n\u001b[0;32m      8\u001b[0m     \u001b[1;31m#print ScaleIndex\u001b[0m\u001b[1;33m\u001b[0m\u001b[1;33m\u001b[0m\u001b[0m\n\u001b[0;32m      9\u001b[0m \u001b[0mJmax\u001b[0m \u001b[1;33m=\u001b[0m \u001b[0mGrids\u001b[0m\u001b[1;33m[\u001b[0m\u001b[1;34m'MetaJmax'\u001b[0m\u001b[1;33m]\u001b[0m\u001b[1;33m[\u001b[0m\u001b[1;36m0\u001b[0m\u001b[1;33m]\u001b[0m\u001b[1;33m[\u001b[0m\u001b[1;36m0\u001b[0m\u001b[1;33m]\u001b[0m\u001b[1;33m\u001b[0m\u001b[0m\n\u001b[1;32m---> 10\u001b[1;33m \u001b[0mlonwav\u001b[0m \u001b[1;33m=\u001b[0m \u001b[0mGrids\u001b[0m\u001b[1;33m[\u001b[0m\u001b[1;34m'lon'\u001b[0m\u001b[1;33m]\u001b[0m\u001b[1;33m[\u001b[0m\u001b[0mface\u001b[0m\u001b[1;33m*\u001b[0m\u001b[0mNbasis\u001b[0m\u001b[1;33m:\u001b[0m\u001b[1;33m(\u001b[0m\u001b[0mface\u001b[0m\u001b[1;33m+\u001b[0m\u001b[1;36m1\u001b[0m\u001b[1;33m)\u001b[0m\u001b[1;33m*\u001b[0m\u001b[0mNbasis\u001b[0m\u001b[1;33m]\u001b[0m\u001b[1;33m\u001b[0m\u001b[0m\n\u001b[0m\u001b[0;32m     11\u001b[0m \u001b[0mlatwav\u001b[0m \u001b[1;33m=\u001b[0m \u001b[0mGrids\u001b[0m\u001b[1;33m[\u001b[0m\u001b[1;34m'lat'\u001b[0m\u001b[1;33m]\u001b[0m\u001b[1;33m[\u001b[0m\u001b[0mface\u001b[0m\u001b[1;33m*\u001b[0m\u001b[0mNbasis\u001b[0m\u001b[1;33m:\u001b[0m\u001b[1;33m(\u001b[0m\u001b[0mface\u001b[0m\u001b[1;33m+\u001b[0m\u001b[1;36m1\u001b[0m\u001b[1;33m)\u001b[0m\u001b[1;33m*\u001b[0m\u001b[0mNbasis\u001b[0m\u001b[1;33m]\u001b[0m\u001b[1;33m\u001b[0m\u001b[0m\n\u001b[0;32m     12\u001b[0m \u001b[1;33m\u001b[0m\u001b[0m\n",
      "\u001b[1;31mNameError\u001b[0m: name 'face' is not defined"
     ]
    },
    {
     "data": {
      "image/png": "[encoded data removed]",
      "text/plain": [
       "<matplotlib.figure.Figure at 0x7f7bd82ca450>"
      ]
     },
     "metadata": {},
     "output_type": "display_data"
    }
   ],
   "source": [
    "Nbasis = len(WaveletBasis['Me'][0,:])\n",
    "fig = plt.figure(figsize=(12, 4), dpi=300, facecolor='w')\n",
    "ax = fig.add_subplot(111)\n",
    "\n",
    "for iii in range(5):\n",
    "    \n",
    "    \n",
    "\n",
    "    Test = Vvals[0,:]\n",
    "    Test.flatten()\n",
    "    N = Grids['MetaN'][0][0]\n",
    "    ScaleIndex = Grids['ScaleIndex'][0][0]\n",
    "        #print ScaleIndex\n",
    "    Jmax = Grids['MetaJmax'][0][0]\n",
    "    lonwav = Grids['lon'][face*Nbasis:(face+1)*Nbasis]\n",
    "    latwav = Grids['lat'][face*Nbasis:(face+1)*Nbasis]\n",
    "\n",
    "\n",
    "        # Define a colorscale\n",
    "    #    colormax=np.amax(abs(value)) #(-colormax,colormax) are the limits of the colorbar\n",
    "    colormax= 0.5\n",
    "    greylimit=0.001*colormax  #this is the limit to which the middle color (grey) will extend on either side of colorttmax mid\n",
    "    name='r_lgrey_b'\n",
    "    c = colors.ColorConverter().to_rgb\n",
    "    colorlist=[c('red'), c('lightgray'), (2.*colormax-2.*greylimit)/(4.*colormax), c('lightgray'),c('lightgray'), (2.*colormax+2.*greylimit)/(4.*colormax), c('lightgray'),c('blue'), 1., c('blue')]\n",
    "    custom_cmap = make_colormap(colorlist,name)\n",
    "    register_cmap(name=custom_cmap.name, cmap=custom_cmap)\n",
    "    palette=custom_cmap.name\n",
    "\n",
    "    colorVal=get_colors(val=value,xmin=-colormax,xmax=colormax,palette=palette)\n",
    "    #print colorVal.shape,value.shape,lonwav.shape\n",
    "\n",
    "\n",
    "        # Make the figure\n",
    "\n",
    "    m = Basemap(projection='robin', lon_0=0,resolution='c',ax=ax)\n",
    "    m.drawcoastlines()\n",
    "    x, y = m(lonwav,latwav); \n",
    "    cm = get_cmap(palette)\n",
    "    #    sc = ax.scatter(x, y, c=colorVal, vmin=-colormax, vmax=colormax, edgecolor= '', cmap=cm)\n",
    "    sc = ax.scatter(x, y, c=colorVal, vmin=-2, vmax=2, edgecolor= '', cmap=cm)\n",
    "\n",
    "        # Set title\n",
    "\n",
    "    titlestr='N='+str(N)+', Jmax='+str(Jmax)+ ',Depth='+str(6371-Depth_Interest)+',Scales Used:'+str(Scale_Interest)#'+str(face+1),\n",
    "    ax.set_title(titlestr,fontsize=12)\n",
    "\n",
    "        # draw parallels and meridians.\n",
    "        # labels = [left,right,top,bottom]\n",
    "    parallels = np.arange(-60,90,30.)\n",
    "    m.drawparallels(parallels,labels=[False,True,False,False])\n",
    "    meridians = np.arange(0.,360.,90.)\n",
    "    m.drawmeridians(meridians,labels=[False,False,False,True])\n"
   ]
  },
  {
   "cell_type": "code",
   "execution_count": 12,
   "metadata": {
    "collapsed": false
   },
   "outputs": [
    {
     "data": {
      "text/plain": [
       "2850816"
      ]
     },
     "execution_count": 12,
     "metadata": {},
     "output_type": "execute_result"
    }
   ],
   "source": [
    "len(Vvals[0,:])"
   ]
  },
  {
   "cell_type": "code",
   "execution_count": 13,
   "metadata": {
    "collapsed": false
   },
   "outputs": [
    {
     "data": {
      "text/plain": [
       "95027"
      ]
     },
     "execution_count": 13,
     "metadata": {},
     "output_type": "execute_result"
    }
   ],
   "source": [
    "int(2850816/30"
   ]
  },
  {
   "cell_type": "code",
   "execution_count": null,
   "metadata": {
    "collapsed": true
   },
   "outputs": [],
   "source": []
  }
 ],
 "metadata": {
  "kernelspec": {
   "display_name": "Python 2",
   "language": "python",
   "name": "python2"
  },
  "language_info": {
   "codemirror_mode": {
    "name": "ipython",
    "version": 2
   },
   "file_extension": ".py",
   "mimetype": "text/x-python",
   "name": "python",
   "nbconvert_exporter": "python",
   "pygments_lexer": "ipython2",
   "version": "2.7.13"
  }
 },
 "nbformat": 4,
 "nbformat_minor": 0
}
