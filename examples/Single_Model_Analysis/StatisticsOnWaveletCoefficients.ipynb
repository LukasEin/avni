{
 "cells": [
  {
   "cell_type": "code",
   "execution_count": 47,
   "metadata": {
    "collapsed": false
   },
   "outputs": [
    {
     "name": "stdout",
     "output_type": "stream",
     "text": [
      "[1]\n",
      "3671\n",
      "[2]\n",
      "3671\n",
      "[3]\n",
      "3671\n",
      "[4]\n",
      "3671\n",
      "[5]\n",
      "3671\n"
     ]
    },
    {
     "data": {
      "image/png": "[encoded data removed]",
      "text/plain": [
       "<matplotlib.figure.Figure at 0x7f9e507a2890>"
      ]
     },
     "metadata": {},
     "output_type": "display_data"
    }
   ],
   "source": [
    "##Given a Model, find the indices that correspond to a particular scale. \n",
    "#Then, reconstruct the model at that scale. Do calculations if needed.\n",
    "\n",
    "\n",
    "####SETUP\n",
    "Database_Path = '../rem3d/files/'\n",
    "N = 7\n",
    "Jmax = 4\n",
    "WaveletBasisFn = 'D4'\n",
    "eo =0\n",
    "EulerConfig = 1\n",
    "ModelName = 'ME16_Vp'\n",
    "NumVals = int(6)*int(2)**(int(2)*int(N))\n",
    "iter_scale = 1;  # 0 is Default. This means the scales are [1,2,3,4,5]\n",
    "####################################################\n",
    "\n",
    "#create vectors to store max cof vals\n",
    "\n",
    "MaxScale1DepthCofs = []\n",
    "MaxScale2DepthCofs = []\n",
    "MaxScale3DepthCofs = []\n",
    "MaxScale4DepthCofs = []\n",
    "MaxScale5DepthCofs = []\n",
    "MaxScale6DepthCofs = []\n",
    "MaxScalingFnDepthCofs = []\n",
    "\n",
    "\n",
    "MeanScale1DepthCofs = []\n",
    "MeanScale2DepthCofs = []\n",
    "MeanScale3DepthCofs = []\n",
    "MeanScale4DepthCofs = []\n",
    "MeanScale5DepthCofs = []\n",
    "MeanScale6DepthCofs = []\n",
    "MeanScalingFnDepthCofs = []\n",
    "\n",
    "depths = []\n",
    "counter = 0\n",
    "xcorrcoeffs = []\n",
    "corrdepths = []\n",
    "pvals = []\n",
    "####################################################\n",
    "##########\n",
    "#Options to do different operations in the script.\n",
    "iterate_over_depths = 0\n",
    "The_Chosen_Depth = 2700\n",
    "The_Chosen_Depth = 6371-The_Chosen_Depth\n",
    "plot_mean = 0\n",
    "plot_max = 0\n",
    "##########\n",
    "#importing standard modules\n",
    "import math\n",
    "import os\n",
    "import glob\n",
    "import re\n",
    "import matplotlib.pyplot as plt\n",
    "import numpy as np\n",
    "import subprocess as sub\n",
    "import shutil\n",
    "import sys\n",
    "import scipy as sci\n",
    "import scipy.io as sio\n",
    "%matplotlib inline\n",
    "from scipy.sparse import csr_matrix, rand\n",
    "from mpl_toolkits.basemap import Basemap\n",
    "import matplotlib.colors as colors\n",
    "from matplotlib.pyplot import register_cmap,get_cmap,colorbar\n",
    "import matplotlib.pyplot as plt\n",
    "from mpl_toolkits.axes_grid1 import make_axes_locatable\n",
    "####################       IMPORT PM's MODULES     ######################################\n",
    "from plottingPM import get_colors,grayify_cmap,make_colormap,customcolorpalette\n",
    "from drawmapsection3D import get_distaz,delazgc_helper,writejson,readjson, \\\n",
    "    plot_hotspots,plot_plates,plot_gcpaths,get_fullpath,sanitised_input,uniquenumpyrow\n",
    "\n",
    "####More Setup for File Names\n",
    "##Naming Conventions\n",
    "DVBasisName = 'DVmaps.'+ 'N' + str(N) + '.J' + str(Jmax) + '.' + WaveletBasisFn + '.mat'\n",
    "WaveletCoeffBasisName = 'VWCoeffs.' + 'N'+str(N) + '.J' + str(Jmax) + '.' + \\\n",
    "                        WaveletBasisFn + '.mat'\n",
    "GridName= 'Grid_N' + str(N) + '_Jmax' + str(Jmax) + \\\n",
    "          '_EulerConfig' + str(EulerConfig) + '.mat'\n",
    "VeloName = ModelName + '.N' + str(N) + '.Jmax' + str(Jmax) +  \\\n",
    "          '.EulerConfig' + str(EulerConfig) + '.mat'\n",
    "\n",
    "####Read the .mat files.\n",
    "WaveletBasis = sio.loadmat(Database_Path + DVBasisName)\n",
    "WaveletCoeffBasis = sio.loadmat(Database_Path + WaveletCoeffBasisName)\n",
    "Grids = sio.loadmat(Database_Path + GridName)\n",
    "ModelFile = sio.loadmat(Database_Path + VeloName)\n",
    "####\n",
    "#Declare some variables\n",
    "Vvals = ModelFile['model']\n",
    "wvcoeffs = ModelFile['wvcoeffs']\n",
    "Depths = ModelFile['depth']\n",
    "if iterate_over_depths == 1:\n",
    "    Depth_List = np.unique(Depths)\n",
    "    Depth_List = np.flip(Depth_List,0)\n",
    "else:\n",
    "    Depth_List = np.array([The_Chosen_Depth])\n",
    "####\n",
    "\n",
    "\n",
    "################################\n",
    "###Setup the iterations over here. \n",
    "Scale_List = [1,2,3,4,5]\n",
    "\n",
    "if iter_scale == 1:\n",
    "    for iiii in range(len(Scale_List)):\n",
    "        Scale_Interest = [Scale_List[iiii]]        \n",
    "        print(Scale_Interest)\n",
    "\n",
    "        for iii in range(len(Depth_List)):\n",
    "            Depth_Interest = Depth_List[iii]\n",
    "            print(Depth_Interest)\n",
    "\n",
    "###Find the indices that correspond to a particular scale or set of scales. \n",
    "            for i in range(np.size(Scale_Interest)):\n",
    "                    Temp_Scale_Checker = np.nonzero(Grids['ScaleIndex'][0,:] == (Scale_Interest[i]))\n",
    "                    if i == 0:\n",
    "                        Scale_Checker = Temp_Scale_Checker\n",
    "                    elif i > 0:\n",
    "                        Scale_Checker = np.concatenate([Scale_Checker,Temp_Scale_Checker],axis=1)\n",
    "###\n",
    "\n",
    "\n",
    "###Now find all the wavelet coefficients at a specific depth\n",
    "\n",
    "            Depth_Checker = np.nonzero(ModelFile['depth'] == (Depth_Interest))\n",
    "            Depth_Coeffs = wvcoeffs[0,Depth_Checker]\n",
    "            Depth_Coeffs = Depth_Coeffs[0]\n",
    "###\n",
    "\n",
    "            Coeff_List = []\n",
    "###Now extract the wavelet coefficients corresponding to your desired scale\n",
    "            for i in range(len(Scale_Checker[0])):\n",
    "                Curr_Index = Scale_Checker[0][i] \n",
    "                Curr_BasisIndex = Curr_Index%(NumVals/6)\n",
    "                Curr_Coeff = Depth_Coeffs[Curr_Index]\n",
    "                Coeff_List.append(Curr_Coeff)\n",
    "                \n",
    "\n",
    "#################################### Now do some calculations, if you want. \n",
    "# Things like residuals, correlations, norms. Let's have fun!\n",
    "\n",
    "            ##Categorize COEFFICIENTS:\n",
    "            \n",
    "            if Scale_Interest == [1]:\n",
    "                Scale1Coeffs = (Coeff_List)\n",
    "                MaxScale1Coeff = max(Scale1Coeffs)\n",
    "                MaxScale1DepthCofs.append(MaxScale1Coeff)\n",
    "                MeanScale1DepthCofs.append(np.mean(np.abs(Scale1Coeffs)))\n",
    "            elif Scale_Interest == [2]:\n",
    "                Scale2Coeffs = (Coeff_List)\n",
    "                MaxScale2Coeff = max(Scale2Coeffs)\n",
    "                MaxScale2DepthCofs.append(MaxScale2Coeff)\n",
    "                MeanScale2DepthCofs.append(np.mean(np.abs(Scale2Coeffs)))\n",
    "            elif Scale_Interest == [3]:\n",
    "                Scale3Coeffs = (Coeff_List)\n",
    "                MaxScale3Coeff = max(Scale3Coeffs)\n",
    "                MaxScale3DepthCofs.append(MaxScale3Coeff)\n",
    "                MeanScale3DepthCofs.append(np.mean(np.abs(Scale3Coeffs)))\n",
    "            elif Scale_Interest == [4]:\n",
    "                Scale4Coeffs = (Coeff_List)\n",
    "                MaxScale4Coeff = max(Scale4Coeffs)\n",
    "                MaxScale4DepthCofs.append(MaxScale4Coeff)\n",
    "                MeanScale4DepthCofs.append(np.mean(np.abs(Scale4Coeffs)))\n",
    "            elif Scale_Interest == [5]:\n",
    "                Scale5Coeffs = (Coeff_List)\n",
    "                MaxScale5Coeff = max(Scale5Coeffs)\n",
    "                MaxScale5DepthCofs.append(MaxScale5Coeff)\n",
    "                MeanScale5DepthCofs.append(np.mean(np.abs(Scale5Coeffs)))\n",
    "            elif Scale_Interest == [6]:\n",
    "                Scale6Coeffs = (Coeff_List)\n",
    "                MaxScale6Coeff = max(Scale6Coeffs)\n",
    "                MaxScale6DepthCofs.append(MaxScale6Coeff)\n",
    "                MeanScale6DepthCofs.append(np.mean(np.abs(Scale6Coeffs)))\n",
    "                \n",
    "            if Scale_Interest == [Jmax+1]:\n",
    "                ScalingFnCoeffs = (Coeff_List)\n",
    "                MaxScalingFnCoeff = max(ScalingFnCoeffs)\n",
    "                MaxScalingFnDepthCofs.append(MaxScale1Coeff)\n",
    "                MeanScalingFnDepthCofs.append(np.mean(np.abs(ScalingFnCoeffs)))\n",
    "                \n",
    "            \n",
    "##Mean scaling coeffs\n",
    "if plot_mean == 1:\n",
    "    fig = plt.figure()\n",
    "    ax = plt.subplot(111)\n",
    "    Scale1 = ax.plot(MeanScale1DepthCofs, 6371-Depth_List,'b-',label='Scale 1')\n",
    "    ax.plot(MeanScale1DepthCofs, 6371-Depth_List,'bo')\n",
    "    Scale2 = ax.plot(MeanScale2DepthCofs, 6371-Depth_List,'g-',label='Scale 2')\n",
    "    ax.plot(MeanScale2DepthCofs, 6371-Depth_List,'go')\n",
    "    Scale3 = ax.plot(MeanScale3DepthCofs, 6371-Depth_List,'c-',label='Scale 3')\n",
    "    ax.plot(MeanScale3DepthCofs, 6371-Depth_List,'co')\n",
    "    Scale4 = ax.plot(MeanScale4DepthCofs, 6371-Depth_List,'m-',label='Scale 4')\n",
    "    ax.plot(MeanScale4DepthCofs, 6371-Depth_List,'mo')\n",
    "    Scaling_Function = ax.plot(MeanScale5DepthCofs, 6371-Depth_List,'y-',label='Father Wavelet')\n",
    "    ax.plot(MeanScale5DepthCofs, 6371-Depth_List,'yo')\n",
    "\n",
    "\n",
    "    ax.set_ylabel('Depth(km)')\n",
    "    ax.set_xlabel('Maximum Wavelet Coefficients')\n",
    "    ax.set_title('Mean Scale Coefficients of seismic heterogeneity for ' + ModelName)\n",
    "    plt.gca().invert_yaxis()\n",
    "    plt.xlim(0, 4)\n",
    "\n",
    "    CMB = [0, 500, 1000, 1500, 2000, 2500, 2891]\n",
    "    y_ticks_labels = ['0','500','1000','1500','2000','2500','CMB']\n",
    "    # Set number of ticks for x-axis\n",
    "    ax.set_yticks(CMB)\n",
    "    # Set ticks labels for x-axis\n",
    "    ax.set_yticklabels(y_ticks_labels, rotation='horizontal')\n",
    "    #plt.legend([Scale1,Scale2,Scale3,Scale4,Scaling_Function,Model_Norm],['Scale 1','Scale 2','Scale 3','Scale 4','Scaling Function','Model'])\n",
    "    plt.legend(frameon=False,loc=5)\n",
    "    plt.show()\n",
    "############\n",
    "if plot_max == 1:\n",
    "    fig = plt.figure()\n",
    "    ax = plt.subplot(111)\n",
    "    Scale1 = ax.plot(MaxScale1DepthCofs, 6371-Depth_List,'b-',label='Scale 1')\n",
    "    ax.plot(MaxScale1DepthCofs, 6371-Depth_List,'bo')\n",
    "    Scale2 = ax.plot(MaxScale2DepthCofs, 6371-Depth_List,'g-',label='Scale 2')\n",
    "    ax.plot(MaxScale2DepthCofs, 6371-Depth_List,'go')\n",
    "    Scale3 = ax.plot(MaxScale3DepthCofs, 6371-Depth_List,'c-',label='Scale 3')\n",
    "    ax.plot(MaxScale3DepthCofs, 6371-Depth_List,'co')\n",
    "    Scale4 = ax.plot(MaxScale4DepthCofs, 6371-Depth_List,'m-',label='Scale 4')\n",
    "    ax.plot(MaxScale4DepthCofs, 6371-Depth_List,'mo')\n",
    "    Scaling_Function = ax.plot(MaxScale5DepthCofs, 6371-Depth_List,'y-',label='Father Wavelet')\n",
    "    ax.plot(MaxScale5DepthCofs, 6371-Depth_List,'yo')\n",
    "\n",
    "\n",
    "    ax.set_ylabel('Depth(km)')\n",
    "    ax.set_xlabel('Maximum Wavelet Coefficients')\n",
    "    ax.set_title('Maximum Scale Coefficients of seismic heterogeneity for ' + ModelName)\n",
    "    plt.gca().invert_yaxis()\n",
    "    plt.xlim(0, 40)\n",
    "\n",
    "    CMB = [0, 500, 1000, 1500, 2000, 2500, 2891]\n",
    "    y_ticks_labels = ['0','500','1000','1500','2000','2500','CMB']\n",
    "    # Set number of ticks for x-axis\n",
    "    ax.set_yticks(CMB)\n",
    "    # Set ticks labels for x-axis\n",
    "    ax.set_yticklabels(y_ticks_labels, rotation='horizontal')\n",
    "    #plt.legend([Scale1,Scale2,Scale3,Scale4,Scaling_Function,Model_Norm],['Scale 1','Scale 2','Scale 3','Scale 4','Scaling Function','Model'])\n",
    "    plt.legend(frameon=False,loc=5)\n",
    "    plt.show()\n",
    "##########\n",
    "if iterate_over_depths == 0:\n",
    "    fig = plt.figure()\n",
    "    ax2 = plt.subplot(111)\n",
    "    plt.hist(Scale1Coeffs,color='blue',alpha=0.5,label='Scale 1')\n",
    "    plt.hist(Scale2Coeffs,color='green',alpha=0.5,label='Scale 2')\n",
    "    plt.hist(Scale3Coeffs,color='cyan',alpha=0.5,label='Scale 3')\n",
    "    plt.hist(Scale4Coeffs,color='magenta',alpha=0.5,label='Scale 4')\n",
    "    plt.hist(ScalingFnCoeffs,color='red',alpha=0.5,label='Father Wavelet')\n",
    "    plt.legend(frameon=False,loc=6)\n",
    "    ax2.set_title('Distribution of Wavelet Coefficients for ' + ModelName + ' at ' + str(6371-The_Chosen_Depth) + 'km depth')\n",
    "    ax2.set_ylabel('Frequency')\n",
    "    ax2.set_xlabel('Wavelet Coefficient Magnitude')\n",
    "    plt.ylim(0, 2000)\n",
    "    plt.xlim(-10, 6)\n",
    "    plt.show()\n",
    "##########"
   ]
  },
  {
   "cell_type": "code",
   "execution_count": null,
   "metadata": {
    "collapsed": false
   },
   "outputs": [],
   "source": [
    "\n"
   ]
  },
  {
   "cell_type": "code",
   "execution_count": null,
   "metadata": {
    "collapsed": false
   },
   "outputs": [],
   "source": []
  },
  {
   "cell_type": "code",
   "execution_count": null,
   "metadata": {
    "collapsed": false
   },
   "outputs": [],
   "source": []
  },
  {
   "cell_type": "code",
   "execution_count": 2,
   "metadata": {
    "collapsed": false
   },
   "outputs": [
    {
     "data": {
      "text/plain": [
       "64"
      ]
     },
     "execution_count": 2,
     "metadata": {},
     "output_type": "execute_result"
    }
   ],
   "source": [
    "Scale_Checker[0][i]"
   ]
  },
  {
   "cell_type": "code",
   "execution_count": 9,
   "metadata": {
    "collapsed": false
   },
   "outputs": [
    {
     "data": {
      "text/plain": [
       "(array([ 98304,  98305,  98306, ..., 196605, 196606, 196607]),\n",
       " array([0, 0, 0, ..., 0, 0, 0]))"
      ]
     },
     "execution_count": 9,
     "metadata": {},
     "output_type": "execute_result"
    }
   ],
   "source": [
    "np.nonzero(ModelFile['depth'] == ([6271]))"
   ]
  },
  {
   "cell_type": "code",
   "execution_count": 5,
   "metadata": {
    "collapsed": false
   },
   "outputs": [
    {
     "data": {
      "text/plain": [
       "100"
      ]
     },
     "execution_count": 5,
     "metadata": {},
     "output_type": "execute_result"
    }
   ],
   "source": [
    "Depth_Interest"
   ]
  },
  {
   "cell_type": "code",
   "execution_count": null,
   "metadata": {
    "collapsed": true
   },
   "outputs": [],
   "source": []
  }
 ],
 "metadata": {
  "kernelspec": {
   "display_name": "Python 2",
   "language": "python",
   "name": "python2"
  },
  "language_info": {
   "codemirror_mode": {
    "name": "ipython",
    "version": 2
   },
   "file_extension": ".py",
   "mimetype": "text/x-python",
   "name": "python",
   "nbconvert_exporter": "python",
   "pygments_lexer": "ipython2",
   "version": "2.7.13"
  }
 },
 "nbformat": 4,
 "nbformat_minor": 0
}
